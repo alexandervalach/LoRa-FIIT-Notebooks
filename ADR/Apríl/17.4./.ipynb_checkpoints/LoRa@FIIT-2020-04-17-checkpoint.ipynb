{
 "cells": [
  {
   "cell_type": "markdown",
   "metadata": {},
   "source": [
    "# LoRa@FIIT- 17.4.2020\n"
   ]
  },
  {
   "cell_type": "markdown",
   "metadata": {},
   "source": [
    "Code Rate: 4/5"
   ]
  },
  {
   "cell_type": "markdown",
   "metadata": {},
   "source": [
    "Bandwidth: 125 kHz"
   ]
  },
  {
   "cell_type": "code",
   "execution_count": 2,
   "metadata": {},
   "outputs": [],
   "source": [
    "%matplotlib inline\n",
    "import pandas as pd\n",
    "import numpy as np\n",
    "import matplotlib.pyplot as plt"
   ]
  },
  {
   "cell_type": "markdown",
   "metadata": {},
   "source": [
    "## Uplink dáta"
   ]
  },
  {
   "cell_type": "markdown",
   "metadata": {},
   "source": [
    "Načítanie uplink dát"
   ]
  },
  {
   "cell_type": "code",
   "execution_count": 3,
   "metadata": {},
   "outputs": [],
   "source": [
    "uplink_data = pd.read_csv('uplink_messages.csv', delimiter=',')"
   ]
  },
  {
   "cell_type": "code",
   "execution_count": 4,
   "metadata": {
    "scrolled": true
   },
   "outputs": [
    {
     "data": {
      "text/html": [
       "<div>\n",
       "<style scoped>\n",
       "    .dataframe tbody tr th:only-of-type {\n",
       "        vertical-align: middle;\n",
       "    }\n",
       "\n",
       "    .dataframe tbody tr th {\n",
       "        vertical-align: top;\n",
       "    }\n",
       "\n",
       "    .dataframe thead th {\n",
       "        text-align: right;\n",
       "    }\n",
       "</style>\n",
       "<table border=\"1\" class=\"dataframe\">\n",
       "  <thead>\n",
       "    <tr style=\"text-align: right;\">\n",
       "      <th></th>\n",
       "      <th>id</th>\n",
       "      <th>app_data</th>\n",
       "      <th>snr</th>\n",
       "      <th>rssi</th>\n",
       "      <th>duty_cycle_remaining</th>\n",
       "      <th>is_primary</th>\n",
       "      <th>receive_time</th>\n",
       "      <th>seq</th>\n",
       "      <th>frequency</th>\n",
       "      <th>spf</th>\n",
       "      <th>power</th>\n",
       "      <th>airtime</th>\n",
       "      <th>coderate</th>\n",
       "      <th>bandwidth</th>\n",
       "      <th>msg_group_number</th>\n",
       "      <th>message_type_id</th>\n",
       "      <th>ap_id</th>\n",
       "      <th>node_id</th>\n",
       "    </tr>\n",
       "  </thead>\n",
       "  <tbody>\n",
       "    <tr>\n",
       "      <th>0</th>\n",
       "      <td>399688</td>\n",
       "      <td>NzcsMTAw</td>\n",
       "      <td>6.96</td>\n",
       "      <td>-81.2</td>\n",
       "      <td>35960</td>\n",
       "      <td>t</td>\n",
       "      <td>2020-04-17 00:00:00.097</td>\n",
       "      <td>1</td>\n",
       "      <td>866100000</td>\n",
       "      <td>7</td>\n",
       "      <td>6</td>\n",
       "      <td>40</td>\n",
       "      <td>4/5</td>\n",
       "      <td>125000</td>\n",
       "      <td>76</td>\n",
       "      <td>1</td>\n",
       "      <td>111112</td>\n",
       "      <td>UcCr</td>\n",
       "    </tr>\n",
       "    <tr>\n",
       "      <th>1</th>\n",
       "      <td>399689</td>\n",
       "      <td>MTE5LDEwMA==</td>\n",
       "      <td>9.30</td>\n",
       "      <td>-83.2</td>\n",
       "      <td>35954</td>\n",
       "      <td>t</td>\n",
       "      <td>2020-04-17 00:00:00.377</td>\n",
       "      <td>1</td>\n",
       "      <td>866100000</td>\n",
       "      <td>7</td>\n",
       "      <td>5</td>\n",
       "      <td>46</td>\n",
       "      <td>4/5</td>\n",
       "      <td>125000</td>\n",
       "      <td>75</td>\n",
       "      <td>1</td>\n",
       "      <td>111118</td>\n",
       "      <td>Fkf4</td>\n",
       "    </tr>\n",
       "    <tr>\n",
       "      <th>2</th>\n",
       "      <td>399690</td>\n",
       "      <td>OTIsMTAw</td>\n",
       "      <td>10.32</td>\n",
       "      <td>-69.8</td>\n",
       "      <td>35872</td>\n",
       "      <td>t</td>\n",
       "      <td>2020-04-17 00:00:00.41</td>\n",
       "      <td>1</td>\n",
       "      <td>866100000</td>\n",
       "      <td>9</td>\n",
       "      <td>13</td>\n",
       "      <td>128</td>\n",
       "      <td>4/5</td>\n",
       "      <td>125000</td>\n",
       "      <td>41</td>\n",
       "      <td>1</td>\n",
       "      <td>111118</td>\n",
       "      <td>WtDe</td>\n",
       "    </tr>\n",
       "    <tr>\n",
       "      <th>3</th>\n",
       "      <td>399691</td>\n",
       "      <td>NTIsMTAw</td>\n",
       "      <td>7.86</td>\n",
       "      <td>-55.7</td>\n",
       "      <td>35960</td>\n",
       "      <td>t</td>\n",
       "      <td>2020-04-17 00:00:00.555</td>\n",
       "      <td>1</td>\n",
       "      <td>866900000</td>\n",
       "      <td>7</td>\n",
       "      <td>14</td>\n",
       "      <td>40</td>\n",
       "      <td>4/5</td>\n",
       "      <td>125000</td>\n",
       "      <td>40</td>\n",
       "      <td>1</td>\n",
       "      <td>111118</td>\n",
       "      <td>XfoE</td>\n",
       "    </tr>\n",
       "    <tr>\n",
       "      <th>4</th>\n",
       "      <td>399692</td>\n",
       "      <td>MTQ2LDEwMA==</td>\n",
       "      <td>7.63</td>\n",
       "      <td>-48.3</td>\n",
       "      <td>35954</td>\n",
       "      <td>t</td>\n",
       "      <td>2020-04-17 00:00:00.704</td>\n",
       "      <td>1</td>\n",
       "      <td>866900000</td>\n",
       "      <td>7</td>\n",
       "      <td>14</td>\n",
       "      <td>46</td>\n",
       "      <td>4/5</td>\n",
       "      <td>125000</td>\n",
       "      <td>75</td>\n",
       "      <td>1</td>\n",
       "      <td>111111</td>\n",
       "      <td>SP5R</td>\n",
       "    </tr>\n",
       "  </tbody>\n",
       "</table>\n",
       "</div>"
      ],
      "text/plain": [
       "       id      app_data    snr  rssi  duty_cycle_remaining is_primary  \\\n",
       "0  399688      NzcsMTAw   6.96 -81.2                 35960          t   \n",
       "1  399689  MTE5LDEwMA==   9.30 -83.2                 35954          t   \n",
       "2  399690      OTIsMTAw  10.32 -69.8                 35872          t   \n",
       "3  399691      NTIsMTAw   7.86 -55.7                 35960          t   \n",
       "4  399692  MTQ2LDEwMA==   7.63 -48.3                 35954          t   \n",
       "\n",
       "              receive_time  seq  frequency  spf  power  airtime coderate  \\\n",
       "0  2020-04-17 00:00:00.097    1  866100000    7      6       40      4/5   \n",
       "1  2020-04-17 00:00:00.377    1  866100000    7      5       46      4/5   \n",
       "2   2020-04-17 00:00:00.41    1  866100000    9     13      128      4/5   \n",
       "3  2020-04-17 00:00:00.555    1  866900000    7     14       40      4/5   \n",
       "4  2020-04-17 00:00:00.704    1  866900000    7     14       46      4/5   \n",
       "\n",
       "   bandwidth  msg_group_number  message_type_id   ap_id node_id  \n",
       "0     125000                76                1  111112    UcCr  \n",
       "1     125000                75                1  111118    Fkf4  \n",
       "2     125000                41                1  111118    WtDe  \n",
       "3     125000                40                1  111118    XfoE  \n",
       "4     125000                75                1  111111    SP5R  "
      ]
     },
     "execution_count": 4,
     "metadata": {},
     "output_type": "execute_result"
    }
   ],
   "source": [
    "uplink_data.head()"
   ]
  },
  {
   "cell_type": "markdown",
   "metadata": {},
   "source": [
    "Odstránime nepotrebné stĺpce"
   ]
  },
  {
   "cell_type": "code",
   "execution_count": 5,
   "metadata": {},
   "outputs": [],
   "source": [
    "del uplink_data['id']\n",
    "del uplink_data['msg_group_number']\n",
    "del uplink_data['is_primary']\n",
    "del uplink_data['message_type_id']\n",
    "del uplink_data['coderate']\n",
    "del uplink_data['bandwidth']\n",
    "del uplink_data['receive_time']"
   ]
  },
  {
   "cell_type": "markdown",
   "metadata": {},
   "source": [
    "Pridanie stĺpca pre ruku banditu. Poslúži na neskoršie porovnanie"
   ]
  },
  {
   "cell_type": "code",
   "execution_count": 6,
   "metadata": {},
   "outputs": [
    {
     "data": {
      "text/html": [
       "<div>\n",
       "<style scoped>\n",
       "    .dataframe tbody tr th:only-of-type {\n",
       "        vertical-align: middle;\n",
       "    }\n",
       "\n",
       "    .dataframe tbody tr th {\n",
       "        vertical-align: top;\n",
       "    }\n",
       "\n",
       "    .dataframe thead th {\n",
       "        text-align: right;\n",
       "    }\n",
       "</style>\n",
       "<table border=\"1\" class=\"dataframe\">\n",
       "  <thead>\n",
       "    <tr style=\"text-align: right;\">\n",
       "      <th></th>\n",
       "      <th>app_data</th>\n",
       "      <th>snr</th>\n",
       "      <th>rssi</th>\n",
       "      <th>duty_cycle_remaining</th>\n",
       "      <th>seq</th>\n",
       "      <th>frequency</th>\n",
       "      <th>spf</th>\n",
       "      <th>power</th>\n",
       "      <th>airtime</th>\n",
       "      <th>ap_id</th>\n",
       "      <th>node_id</th>\n",
       "    </tr>\n",
       "  </thead>\n",
       "  <tbody>\n",
       "    <tr>\n",
       "      <th>0</th>\n",
       "      <td>NzcsMTAw</td>\n",
       "      <td>6.96</td>\n",
       "      <td>-81.2</td>\n",
       "      <td>35960</td>\n",
       "      <td>1</td>\n",
       "      <td>866100000</td>\n",
       "      <td>7</td>\n",
       "      <td>6</td>\n",
       "      <td>40</td>\n",
       "      <td>111112</td>\n",
       "      <td>UcCr</td>\n",
       "    </tr>\n",
       "    <tr>\n",
       "      <th>1</th>\n",
       "      <td>MTE5LDEwMA==</td>\n",
       "      <td>9.30</td>\n",
       "      <td>-83.2</td>\n",
       "      <td>35954</td>\n",
       "      <td>1</td>\n",
       "      <td>866100000</td>\n",
       "      <td>7</td>\n",
       "      <td>5</td>\n",
       "      <td>46</td>\n",
       "      <td>111118</td>\n",
       "      <td>Fkf4</td>\n",
       "    </tr>\n",
       "    <tr>\n",
       "      <th>2</th>\n",
       "      <td>OTIsMTAw</td>\n",
       "      <td>10.32</td>\n",
       "      <td>-69.8</td>\n",
       "      <td>35872</td>\n",
       "      <td>1</td>\n",
       "      <td>866100000</td>\n",
       "      <td>9</td>\n",
       "      <td>13</td>\n",
       "      <td>128</td>\n",
       "      <td>111118</td>\n",
       "      <td>WtDe</td>\n",
       "    </tr>\n",
       "    <tr>\n",
       "      <th>3</th>\n",
       "      <td>NTIsMTAw</td>\n",
       "      <td>7.86</td>\n",
       "      <td>-55.7</td>\n",
       "      <td>35960</td>\n",
       "      <td>1</td>\n",
       "      <td>866900000</td>\n",
       "      <td>7</td>\n",
       "      <td>14</td>\n",
       "      <td>40</td>\n",
       "      <td>111118</td>\n",
       "      <td>XfoE</td>\n",
       "    </tr>\n",
       "    <tr>\n",
       "      <th>4</th>\n",
       "      <td>MTQ2LDEwMA==</td>\n",
       "      <td>7.63</td>\n",
       "      <td>-48.3</td>\n",
       "      <td>35954</td>\n",
       "      <td>1</td>\n",
       "      <td>866900000</td>\n",
       "      <td>7</td>\n",
       "      <td>14</td>\n",
       "      <td>46</td>\n",
       "      <td>111111</td>\n",
       "      <td>SP5R</td>\n",
       "    </tr>\n",
       "  </tbody>\n",
       "</table>\n",
       "</div>"
      ],
      "text/plain": [
       "       app_data    snr  rssi  duty_cycle_remaining  seq  frequency  spf  \\\n",
       "0      NzcsMTAw   6.96 -81.2                 35960    1  866100000    7   \n",
       "1  MTE5LDEwMA==   9.30 -83.2                 35954    1  866100000    7   \n",
       "2      OTIsMTAw  10.32 -69.8                 35872    1  866100000    9   \n",
       "3      NTIsMTAw   7.86 -55.7                 35960    1  866900000    7   \n",
       "4  MTQ2LDEwMA==   7.63 -48.3                 35954    1  866900000    7   \n",
       "\n",
       "   power  airtime   ap_id node_id  \n",
       "0      6       40  111112    UcCr  \n",
       "1      5       46  111118    Fkf4  \n",
       "2     13      128  111118    WtDe  \n",
       "3     14       40  111118    XfoE  \n",
       "4     14       46  111111    SP5R  "
      ]
     },
     "execution_count": 6,
     "metadata": {},
     "output_type": "execute_result"
    }
   ],
   "source": [
    "uplink_data.head()"
   ]
  },
  {
   "cell_type": "code",
   "execution_count": 7,
   "metadata": {},
   "outputs": [],
   "source": [
    "uplink_data['arm'] = 'SF' + uplink_data.spf.astype(str) + 'PWR' + uplink_data.power.astype(str)"
   ]
  },
  {
   "cell_type": "markdown",
   "metadata": {},
   "source": [
    "### Voľba komunikačných parametrov"
   ]
  },
  {
   "cell_type": "code",
   "execution_count": 8,
   "metadata": {},
   "outputs": [
    {
     "data": {
      "text/plain": [
       "<matplotlib.axes._subplots.AxesSubplot at 0x7f5788f56990>"
      ]
     },
     "execution_count": 8,
     "metadata": {},
     "output_type": "execute_result"
    },
    {
     "data": {
      "image/png": "[encoded data removed]",
      "text/plain": [
       "<Figure size 1080x360 with 1 Axes>"
      ]
     },
     "metadata": {
      "needs_background": "light"
     },
     "output_type": "display_data"
    }
   ],
   "source": [
    "uplink_data.arm.value_counts().plot(kind='bar',figsize=(15,5))"
   ]
  },
  {
   "cell_type": "markdown",
   "metadata": {},
   "source": [
    "### Voľba komunikačných parametrov a RSSI"
   ]
  },
  {
   "cell_type": "code",
   "execution_count": 9,
   "metadata": {
    "scrolled": false
   },
   "outputs": [
    {
     "data": {
      "image/png": "[encoded data removed]",
      "text/plain": [
       "<Figure size 432x288 with 1 Axes>"
      ]
     },
     "metadata": {
      "needs_background": "light"
     },
     "output_type": "display_data"
    }
   ],
   "source": [
    "plt.scatter(uplink_data.arm, uplink_data.rssi)\n",
    "plt.title(\"Porovnanie RSSI a rúk banditu\")\n",
    "plt.xlabel('Parametre')\n",
    "plt.ylabel('RSSI [dBm]')\n",
    "# plt.savefig('bandit_arms_rssi.png')\n",
    "plt.show()"
   ]
  },
  {
   "cell_type": "markdown",
   "metadata": {},
   "source": [
    "### Voľba komunikačných parametrov a SNR"
   ]
  },
  {
   "cell_type": "code",
   "execution_count": 10,
   "metadata": {},
   "outputs": [
    {
     "data": {
      "text/plain": [
       "Text(0, 0.5, 'SNR [dB]')"
      ]
     },
     "execution_count": 10,
     "metadata": {},
     "output_type": "execute_result"
    },
    {
     "data": {
      "image/png": "[encoded data removed]",
      "text/plain": [
       "<Figure size 432x288 with 1 Axes>"
      ]
     },
     "metadata": {
      "needs_background": "light"
     },
     "output_type": "display_data"
    }
   ],
   "source": [
    "plt.scatter(uplink_data.arm, uplink_data.snr)\n",
    "plt.title(\"Porovnanie SNR a rúk banditu\")\n",
    "plt.xlabel('Parametre')\n",
    "plt.ylabel('SNR [dB]')\n",
    "# plt.savefig('bandit_arms_snr.png')"
   ]
  },
  {
   "cell_type": "markdown",
   "metadata": {},
   "source": [
    "### Duty cycle korekcia hodnôt"
   ]
  },
  {
   "cell_type": "code",
   "execution_count": 11,
   "metadata": {},
   "outputs": [
    {
     "data": {
      "text/plain": [
       "0         35960\n",
       "1         35954\n",
       "2         35872\n",
       "3         35960\n",
       "4         35954\n",
       "          ...  \n",
       "165101    35834\n",
       "165102    35786\n",
       "165103    35828\n",
       "165104    35828\n",
       "165105    35822\n",
       "Name: duty_cycle_remaining, Length: 165106, dtype: int64"
      ]
     },
     "execution_count": 11,
     "metadata": {},
     "output_type": "execute_result"
    }
   ],
   "source": [
    "duty_cycle_remaining = uplink_data.duty_cycle_remaining\n",
    "duty_cycle_remaining"
   ]
  },
  {
   "cell_type": "code",
   "execution_count": 12,
   "metadata": {},
   "outputs": [
    {
     "data": {
      "text/plain": [
       "count    165106.000000\n",
       "mean       3588.361684\n",
       "std           5.577452\n",
       "min        3484.200000\n",
       "25%        3586.200000\n",
       "50%        3587.800000\n",
       "75%        3591.400000\n",
       "max        3596.000000\n",
       "Name: duty_cycle_remaining, dtype: float64"
      ]
     },
     "execution_count": 12,
     "metadata": {},
     "output_type": "execute_result"
    }
   ],
   "source": [
    "duty_cycle_data = uplink_data[uplink_data.duty_cycle_remaining > 3600]\n",
    "duty_cycle_data = duty_cycle_data.duty_cycle_remaining / 10\n",
    "duty_cycle_data.describe()"
   ]
  },
  {
   "cell_type": "markdown",
   "metadata": {},
   "source": [
    "### Faktor šírenia (Spreading Factor)"
   ]
  },
  {
   "cell_type": "code",
   "execution_count": 13,
   "metadata": {
    "scrolled": true
   },
   "outputs": [
    {
     "data": {
      "text/plain": [
       "<matplotlib.axes._subplots.AxesSubplot at 0x7f5786c27050>"
      ]
     },
     "execution_count": 13,
     "metadata": {},
     "output_type": "execute_result"
    },
    {
     "data": {
      "image/png": "[encoded data removed]",
      "text/plain": [
       "<Figure size 432x288 with 1 Axes>"
      ]
     },
     "metadata": {
      "needs_background": "light"
     },
     "output_type": "display_data"
    }
   ],
   "source": [
    "uplink_data.spf.value_counts().plot(kind='bar')"
   ]
  },
  {
   "cell_type": "markdown",
   "metadata": {},
   "source": [
    "### Využitie frekvenčného pásma"
   ]
  },
  {
   "cell_type": "code",
   "execution_count": 14,
   "metadata": {},
   "outputs": [
    {
     "data": {
      "text/plain": [
       "<matplotlib.axes._subplots.AxesSubplot at 0x7f5787697450>"
      ]
     },
     "execution_count": 14,
     "metadata": {},
     "output_type": "execute_result"
    },
    {
     "data": {
      "image/png": "[encoded data removed]",
      "text/plain": [
       "<Figure size 432x288 with 1 Axes>"
      ]
     },
     "metadata": {
      "needs_background": "light"
     },
     "output_type": "display_data"
    }
   ],
   "source": [
    "uplink_frequency = uplink_data.frequency / 1000000\n",
    "uplink_frequency.value_counts().plot(kind='bar')"
   ]
  },
  {
   "cell_type": "code",
   "execution_count": 15,
   "metadata": {
    "scrolled": true
   },
   "outputs": [
    {
     "data": {
      "text/plain": [
       "Text(0, 0.5, 'SNR [dB]')"
      ]
     },
     "execution_count": 15,
     "metadata": {},
     "output_type": "execute_result"
    },
    {
     "data": {
      "image/png": "[encoded data removed]",
      "text/plain": [
       "<Figure size 432x288 with 1 Axes>"
      ]
     },
     "metadata": {
      "needs_background": "light"
     },
     "output_type": "display_data"
    }
   ],
   "source": [
    "plt.scatter(uplink_data.rssi, uplink_data.snr)\n",
    "plt.xlabel('RSSI [dBm]')\n",
    "plt.ylabel('SNR [dB]')\n",
    "\n",
    "# plt.savefig('frequency.png')"
   ]
  },
  {
   "cell_type": "markdown",
   "metadata": {},
   "source": [
    "### Využitie LoRa prístupových bodov"
   ]
  },
  {
   "cell_type": "code",
   "execution_count": 16,
   "metadata": {},
   "outputs": [
    {
     "data": {
      "text/plain": [
       "<matplotlib.axes._subplots.AxesSubplot at 0x7f5786c25d50>"
      ]
     },
     "execution_count": 16,
     "metadata": {},
     "output_type": "execute_result"
    },
    {
     "data": {
      "image/png": "[encoded data removed]",
      "text/plain": [
       "<Figure size 432x288 with 1 Axes>"
      ]
     },
     "metadata": {
      "needs_background": "light"
     },
     "output_type": "display_data"
    }
   ],
   "source": [
    "uplink_data.ap_id.value_counts().plot(kind='bar')"
   ]
  },
  {
   "cell_type": "markdown",
   "metadata": {},
   "source": [
    "### Trvanie prenosu"
   ]
  },
  {
   "cell_type": "code",
   "execution_count": 17,
   "metadata": {},
   "outputs": [
    {
     "data": {
      "text/plain": [
       "46     81121\n",
       "40     79613\n",
       "82      1505\n",
       "71      1349\n",
       "147      604\n",
       "128      564\n",
       "266      160\n",
       "233      137\n",
       "495       28\n",
       "568       25\n",
       "Name: airtime, dtype: int64"
      ]
     },
     "execution_count": 17,
     "metadata": {},
     "output_type": "execute_result"
    }
   ],
   "source": [
    "uplink_data.airtime.value_counts()"
   ]
  },
  {
   "cell_type": "markdown",
   "metadata": {},
   "source": [
    "### Vysielací výkon (Power)"
   ]
  },
  {
   "cell_type": "code",
   "execution_count": 18,
   "metadata": {
    "scrolled": true
   },
   "outputs": [
    {
     "data": {
      "text/plain": [
       "<matplotlib.axes._subplots.AxesSubplot at 0x7f5786b42350>"
      ]
     },
     "execution_count": 18,
     "metadata": {},
     "output_type": "execute_result"
    },
    {
     "data": {
      "image/png": "[encoded data removed]",
      "text/plain": [
       "<Figure size 432x288 with 1 Axes>"
      ]
     },
     "metadata": {
      "needs_background": "light"
     },
     "output_type": "display_data"
    }
   ],
   "source": [
    "uplink_data.power.value_counts().plot(kind=\"bar\")"
   ]
  },
  {
   "cell_type": "markdown",
   "metadata": {},
   "source": [
    "### Koncové zariadenia"
   ]
  },
  {
   "cell_type": "code",
   "execution_count": 19,
   "metadata": {
    "scrolled": true
   },
   "outputs": [
    {
     "data": {
      "text/plain": [
       "count     165106\n",
       "unique      5696\n",
       "top         yFUC\n",
       "freq          62\n",
       "Name: node_id, dtype: object"
      ]
     },
     "execution_count": 19,
     "metadata": {},
     "output_type": "execute_result"
    }
   ],
   "source": [
    "uplink_data.node_id.describe()"
   ]
  },
  {
   "cell_type": "code",
   "execution_count": 20,
   "metadata": {},
   "outputs": [],
   "source": [
    "nodes_data = uplink_data.node_id.unique()"
   ]
  },
  {
   "cell_type": "code",
   "execution_count": 21,
   "metadata": {},
   "outputs": [
    {
     "data": {
      "text/plain": [
       "0         UcCr\n",
       "1         Fkf4\n",
       "2         WtDe\n",
       "3         XfoE\n",
       "4         SP5R\n",
       "          ... \n",
       "165101    m6kV\n",
       "165102    Zujz\n",
       "165103    cznN\n",
       "165104    ji7G\n",
       "165105    qKd9\n",
       "Name: node_id, Length: 165106, dtype: object"
      ]
     },
     "execution_count": 21,
     "metadata": {},
     "output_type": "execute_result"
    }
   ],
   "source": [
    "uplink_data.node_id"
   ]
  },
  {
   "cell_type": "markdown",
   "metadata": {},
   "source": [
    "## Downlink Messages"
   ]
  },
  {
   "cell_type": "code",
   "execution_count": 22,
   "metadata": {},
   "outputs": [],
   "source": [
    "downlink_data = pd.read_csv('downlink_messages.csv', delimiter=',')"
   ]
  },
  {
   "cell_type": "code",
   "execution_count": 23,
   "metadata": {
    "scrolled": true
   },
   "outputs": [
    {
     "data": {
      "text/html": [
       "<div>\n",
       "<style scoped>\n",
       "    .dataframe tbody tr th:only-of-type {\n",
       "        vertical-align: middle;\n",
       "    }\n",
       "\n",
       "    .dataframe tbody tr th {\n",
       "        vertical-align: top;\n",
       "    }\n",
       "\n",
       "    .dataframe thead th {\n",
       "        text-align: right;\n",
       "    }\n",
       "</style>\n",
       "<table border=\"1\" class=\"dataframe\">\n",
       "  <thead>\n",
       "    <tr style=\"text-align: right;\">\n",
       "      <th></th>\n",
       "      <th>id</th>\n",
       "      <th>app_data</th>\n",
       "      <th>net_data</th>\n",
       "      <th>duty_cycle_remaining</th>\n",
       "      <th>sent</th>\n",
       "      <th>ack_required</th>\n",
       "      <th>delivered</th>\n",
       "      <th>send_time</th>\n",
       "      <th>frequency</th>\n",
       "      <th>spf</th>\n",
       "      <th>power</th>\n",
       "      <th>airtime</th>\n",
       "      <th>coderate</th>\n",
       "      <th>bandwidth</th>\n",
       "      <th>ap_id</th>\n",
       "      <th>node_id</th>\n",
       "    </tr>\n",
       "  </thead>\n",
       "  <tbody>\n",
       "    <tr>\n",
       "      <th>0</th>\n",
       "      <td>64607</td>\n",
       "      <td>NaN</td>\n",
       "      <td>[]</td>\n",
       "      <td>35926</td>\n",
       "      <td>t</td>\n",
       "      <td>f</td>\n",
       "      <td>t</td>\n",
       "      <td>2020-04-17 00:00:00.591</td>\n",
       "      <td>866900000</td>\n",
       "      <td>7</td>\n",
       "      <td>15</td>\n",
       "      <td>40</td>\n",
       "      <td>4/5</td>\n",
       "      <td>125000</td>\n",
       "      <td>111118</td>\n",
       "      <td>XfoE</td>\n",
       "    </tr>\n",
       "    <tr>\n",
       "      <th>1</th>\n",
       "      <td>63483</td>\n",
       "      <td>NaN</td>\n",
       "      <td>[{\"sf\":7,\"power\":9,\"type\":\"NORMAL\"}]</td>\n",
       "      <td>35906</td>\n",
       "      <td>t</td>\n",
       "      <td>f</td>\n",
       "      <td>t</td>\n",
       "      <td>2020-04-16 23:37:52.883</td>\n",
       "      <td>866900000</td>\n",
       "      <td>7</td>\n",
       "      <td>15</td>\n",
       "      <td>40</td>\n",
       "      <td>4/5</td>\n",
       "      <td>125000</td>\n",
       "      <td>111114</td>\n",
       "      <td>deyL</td>\n",
       "    </tr>\n",
       "    <tr>\n",
       "      <th>2</th>\n",
       "      <td>63484</td>\n",
       "      <td>NaN</td>\n",
       "      <td>[]</td>\n",
       "      <td>35920</td>\n",
       "      <td>t</td>\n",
       "      <td>f</td>\n",
       "      <td>t</td>\n",
       "      <td>2020-04-16 23:37:53.874</td>\n",
       "      <td>866900000</td>\n",
       "      <td>7</td>\n",
       "      <td>14</td>\n",
       "      <td>46</td>\n",
       "      <td>4/5</td>\n",
       "      <td>125000</td>\n",
       "      <td>111111</td>\n",
       "      <td>6uou</td>\n",
       "    </tr>\n",
       "    <tr>\n",
       "      <th>3</th>\n",
       "      <td>63485</td>\n",
       "      <td>NaN</td>\n",
       "      <td>[]</td>\n",
       "      <td>35920</td>\n",
       "      <td>t</td>\n",
       "      <td>f</td>\n",
       "      <td>t</td>\n",
       "      <td>2020-04-16 23:37:54.474</td>\n",
       "      <td>866900000</td>\n",
       "      <td>7</td>\n",
       "      <td>15</td>\n",
       "      <td>46</td>\n",
       "      <td>4/5</td>\n",
       "      <td>125000</td>\n",
       "      <td>111119</td>\n",
       "      <td>Vx1n</td>\n",
       "    </tr>\n",
       "    <tr>\n",
       "      <th>4</th>\n",
       "      <td>63486</td>\n",
       "      <td>NaN</td>\n",
       "      <td>[]</td>\n",
       "      <td>35926</td>\n",
       "      <td>t</td>\n",
       "      <td>f</td>\n",
       "      <td>t</td>\n",
       "      <td>2020-04-16 23:37:54.662</td>\n",
       "      <td>866900000</td>\n",
       "      <td>7</td>\n",
       "      <td>15</td>\n",
       "      <td>40</td>\n",
       "      <td>4/5</td>\n",
       "      <td>125000</td>\n",
       "      <td>111111</td>\n",
       "      <td>68qZ</td>\n",
       "    </tr>\n",
       "  </tbody>\n",
       "</table>\n",
       "</div>"
      ],
      "text/plain": [
       "      id  app_data                              net_data  \\\n",
       "0  64607       NaN                                    []   \n",
       "1  63483       NaN  [{\"sf\":7,\"power\":9,\"type\":\"NORMAL\"}]   \n",
       "2  63484       NaN                                    []   \n",
       "3  63485       NaN                                    []   \n",
       "4  63486       NaN                                    []   \n",
       "\n",
       "   duty_cycle_remaining sent ack_required delivered                send_time  \\\n",
       "0                 35926    t            f         t  2020-04-17 00:00:00.591   \n",
       "1                 35906    t            f         t  2020-04-16 23:37:52.883   \n",
       "2                 35920    t            f         t  2020-04-16 23:37:53.874   \n",
       "3                 35920    t            f         t  2020-04-16 23:37:54.474   \n",
       "4                 35926    t            f         t  2020-04-16 23:37:54.662   \n",
       "\n",
       "   frequency  spf  power  airtime coderate  bandwidth   ap_id node_id  \n",
       "0  866900000    7     15       40      4/5     125000  111118    XfoE  \n",
       "1  866900000    7     15       40      4/5     125000  111114    deyL  \n",
       "2  866900000    7     14       46      4/5     125000  111111    6uou  \n",
       "3  866900000    7     15       46      4/5     125000  111119    Vx1n  \n",
       "4  866900000    7     15       40      4/5     125000  111111    68qZ  "
      ]
     },
     "execution_count": 23,
     "metadata": {},
     "output_type": "execute_result"
    }
   ],
   "source": [
    "downlink_data.head()"
   ]
  },
  {
   "cell_type": "markdown",
   "metadata": {},
   "source": [
    "### Využitie LoRa prístupových bodov"
   ]
  },
  {
   "cell_type": "code",
   "execution_count": 24,
   "metadata": {},
   "outputs": [
    {
     "data": {
      "text/plain": [
       "<matplotlib.axes._subplots.AxesSubplot at 0x7f5786842290>"
      ]
     },
     "execution_count": 24,
     "metadata": {},
     "output_type": "execute_result"
    },
    {
     "data": {
      "image/png": "[encoded data removed]",
      "text/plain": [
       "<Figure size 432x288 with 1 Axes>"
      ]
     },
     "metadata": {
      "needs_background": "light"
     },
     "output_type": "display_data"
    }
   ],
   "source": [
    "downlink_data.ap_id.value_counts().plot(kind='bar')"
   ]
  },
  {
   "cell_type": "markdown",
   "metadata": {},
   "source": [
    "### Korekcia duty cycle (Pracovný cyklus)"
   ]
  },
  {
   "cell_type": "code",
   "execution_count": 25,
   "metadata": {},
   "outputs": [
    {
     "data": {
      "text/plain": [
       "0        35926\n",
       "1        35906\n",
       "2        35920\n",
       "3        35920\n",
       "4        35926\n",
       "         ...  \n",
       "25539    35786\n",
       "25540    35800\n",
       "25541    35794\n",
       "25542    35788\n",
       "25543    35774\n",
       "Name: duty_cycle_remaining, Length: 25544, dtype: int64"
      ]
     },
     "execution_count": 25,
     "metadata": {},
     "output_type": "execute_result"
    }
   ],
   "source": [
    "duty_cycle_remaining = downlink_data.duty_cycle_remaining\n",
    "duty_cycle_remaining"
   ]
  },
  {
   "cell_type": "code",
   "execution_count": 26,
   "metadata": {},
   "outputs": [
    {
     "data": {
      "text/plain": [
       "count    25544.000000\n",
       "mean      3584.595510\n",
       "std          5.601892\n",
       "min       3484.800000\n",
       "25%       3581.400000\n",
       "50%       3584.600000\n",
       "75%       3588.000000\n",
       "max       3592.600000\n",
       "Name: duty_cycle_remaining, dtype: float64"
      ]
     },
     "execution_count": 26,
     "metadata": {},
     "output_type": "execute_result"
    }
   ],
   "source": [
    "duty_cycle_data = downlink_data[downlink_data.duty_cycle_remaining > 3600]\n",
    "duty_cycle_data = duty_cycle_data.duty_cycle_remaining / 10\n",
    "duty_cycle_data.describe()"
   ]
  },
  {
   "cell_type": "markdown",
   "metadata": {},
   "source": [
    "### Spreading Factor (Faktor šírenia)"
   ]
  },
  {
   "cell_type": "code",
   "execution_count": 27,
   "metadata": {
    "scrolled": true
   },
   "outputs": [
    {
     "data": {
      "text/plain": [
       "<matplotlib.axes._subplots.AxesSubplot at 0x7f57867c0e10>"
      ]
     },
     "execution_count": 27,
     "metadata": {},
     "output_type": "execute_result"
    },
    {
     "data": {
      "image/png": "[encoded data removed]",
      "text/plain": [
       "<Figure size 432x288 with 1 Axes>"
      ]
     },
     "metadata": {
      "needs_background": "light"
     },
     "output_type": "display_data"
    }
   ],
   "source": [
    "downlink_data.spf.value_counts().plot(kind='bar')"
   ]
  },
  {
   "cell_type": "markdown",
   "metadata": {},
   "source": [
    "### Využitie frekvenčného pásma"
   ]
  },
  {
   "cell_type": "code",
   "execution_count": 28,
   "metadata": {},
   "outputs": [
    {
     "data": {
      "text/plain": [
       "<matplotlib.axes._subplots.AxesSubplot at 0x7f5785050ed0>"
      ]
     },
     "execution_count": 28,
     "metadata": {},
     "output_type": "execute_result"
    },
    {
     "data": {
      "image/png": "[encoded data removed]",
      "text/plain": [
       "<Figure size 432x288 with 1 Axes>"
      ]
     },
     "metadata": {
      "needs_background": "light"
     },
     "output_type": "display_data"
    }
   ],
   "source": [
    "downlink_frequency = downlink_data.frequency / 1000000\n",
    "downlink_frequency.value_counts().plot(kind='bar')"
   ]
  },
  {
   "cell_type": "markdown",
   "metadata": {},
   "source": [
    "### Vysielací výkon (Power)"
   ]
  },
  {
   "cell_type": "code",
   "execution_count": 29,
   "metadata": {},
   "outputs": [
    {
     "data": {
      "text/plain": [
       "<matplotlib.axes._subplots.AxesSubplot at 0x7f5784fb3f50>"
      ]
     },
     "execution_count": 29,
     "metadata": {},
     "output_type": "execute_result"
    },
    {
     "data": {
      "image/png": "[encoded data removed]",
      "text/plain": [
       "<Figure size 432x288 with 1 Axes>"
      ]
     },
     "metadata": {
      "needs_background": "light"
     },
     "output_type": "display_data"
    }
   ],
   "source": [
    "downlink_data.power.value_counts().plot(kind=\"bar\")"
   ]
  },
  {
   "cell_type": "markdown",
   "metadata": {},
   "source": [
    "### Trvanie prenosu"
   ]
  },
  {
   "cell_type": "code",
   "execution_count": 30,
   "metadata": {
    "scrolled": true
   },
   "outputs": [
    {
     "data": {
      "text/plain": [
       "40    17199\n",
       "46     8345\n",
       "Name: airtime, dtype: int64"
      ]
     },
     "execution_count": 30,
     "metadata": {},
     "output_type": "execute_result"
    }
   ],
   "source": [
    "downlink_data.airtime.value_counts()"
   ]
  },
  {
   "cell_type": "markdown",
   "metadata": {},
   "source": [
    "### Koncové zariadenia"
   ]
  },
  {
   "cell_type": "code",
   "execution_count": 31,
   "metadata": {},
   "outputs": [
    {
     "data": {
      "text/plain": [
       "count     25544\n",
       "unique     5636\n",
       "top        yFUC\n",
       "freq         17\n",
       "Name: node_id, dtype: object"
      ]
     },
     "execution_count": 31,
     "metadata": {},
     "output_type": "execute_result"
    }
   ],
   "source": [
    "downlink_data.node_id.describe()"
   ]
  }
 ],
 "metadata": {
  "kernelspec": {
   "display_name": "Python 3",
   "language": "python",
   "name": "python3"
  },
  "language_info": {
   "codemirror_mode": {
    "name": "ipython",
    "version": 3
   },
   "file_extension": ".py",
   "mimetype": "text/x-python",
   "name": "python",
   "nbconvert_exporter": "python",
   "pygments_lexer": "ipython3",
   "version": "3.7.6"
  }
 },
 "nbformat": 4,
 "nbformat_minor": 2
}
