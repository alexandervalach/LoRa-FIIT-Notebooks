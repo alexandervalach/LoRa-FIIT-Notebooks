{
 "cells": [
  {
   "cell_type": "markdown",
   "metadata": {},
   "source": [
    "# LoRa@FIIT- 15.4.2020\n"
   ]
  },
  {
   "cell_type": "markdown",
   "metadata": {},
   "source": [
    "## 1. Sumár\n"
   ]
  },
  {
   "cell_type": "markdown",
   "metadata": {},
   "source": [
    "Údaje s veľkosťou 4 B boli odosielané každých 32 sekúnd."
   ]
  },
  {
   "cell_type": "markdown",
   "metadata": {},
   "source": [
    "Data rate: SF7BW125"
   ]
  },
  {
   "cell_type": "markdown",
   "metadata": {},
   "source": [
    "Prijatých paketov: 97%"
   ]
  },
  {
   "cell_type": "markdown",
   "metadata": {},
   "source": [
    "Vysielací výkon: +20 dBm"
   ]
  },
  {
   "cell_type": "code",
   "execution_count": 38,
   "metadata": {},
   "outputs": [],
   "source": [
    "%matplotlib inline\n",
    "import pandas as pd\n",
    "import numpy as np\n",
    "import matplotlib.pyplot as plt"
   ]
  },
  {
   "cell_type": "markdown",
   "metadata": {},
   "source": [
    "Načítanie uplink dát"
   ]
  },
  {
   "cell_type": "code",
   "execution_count": 57,
   "metadata": {},
   "outputs": [],
   "source": [
    "uplink_data = pd.read_csv('uplink_messages.csv', delimiter=',')"
   ]
  },
  {
   "cell_type": "markdown",
   "metadata": {},
   "source": [
    "Načítanie downlink dát"
   ]
  },
  {
   "cell_type": "code",
   "execution_count": 58,
   "metadata": {
    "scrolled": false
   },
   "outputs": [],
   "source": [
    "downlink_data = pd.read_csv('downlink_messages.csv', delimiter=',')"
   ]
  },
  {
   "cell_type": "markdown",
   "metadata": {},
   "source": [
    "## Uplink data"
   ]
  },
  {
   "cell_type": "code",
   "execution_count": 48,
   "metadata": {},
   "outputs": [
    {
     "data": {
      "text/html": [
       "<div>\n",
       "<style scoped>\n",
       "    .dataframe tbody tr th:only-of-type {\n",
       "        vertical-align: middle;\n",
       "    }\n",
       "\n",
       "    .dataframe tbody tr th {\n",
       "        vertical-align: top;\n",
       "    }\n",
       "\n",
       "    .dataframe thead th {\n",
       "        text-align: right;\n",
       "    }\n",
       "</style>\n",
       "<table border=\"1\" class=\"dataframe\">\n",
       "  <thead>\n",
       "    <tr style=\"text-align: right;\">\n",
       "      <th></th>\n",
       "      <th>id</th>\n",
       "      <th>app_data</th>\n",
       "      <th>snr</th>\n",
       "      <th>rssi</th>\n",
       "      <th>duty_cycle_remaining</th>\n",
       "      <th>is_primary</th>\n",
       "      <th>receive_time</th>\n",
       "      <th>seq</th>\n",
       "      <th>frequency</th>\n",
       "      <th>spf</th>\n",
       "      <th>power</th>\n",
       "      <th>airtime</th>\n",
       "      <th>coderate</th>\n",
       "      <th>bandwidth</th>\n",
       "      <th>msg_group_number</th>\n",
       "      <th>message_type_id</th>\n",
       "      <th>ap_id</th>\n",
       "      <th>node_id</th>\n",
       "    </tr>\n",
       "  </thead>\n",
       "  <tbody>\n",
       "    <tr>\n",
       "      <th>0</th>\n",
       "      <td>5577</td>\n",
       "      <td>NTYsMTAw</td>\n",
       "      <td>8.02</td>\n",
       "      <td>-105.5</td>\n",
       "      <td>35099</td>\n",
       "      <td>t</td>\n",
       "      <td>2020-04-15 00:00:04.901</td>\n",
       "      <td>1</td>\n",
       "      <td>866900000</td>\n",
       "      <td>12</td>\n",
       "      <td>15</td>\n",
       "      <td>901</td>\n",
       "      <td>4/5</td>\n",
       "      <td>125000</td>\n",
       "      <td>1</td>\n",
       "      <td>1</td>\n",
       "      <td>111115</td>\n",
       "      <td>dOPa</td>\n",
       "    </tr>\n",
       "    <tr>\n",
       "      <th>1</th>\n",
       "      <td>5578</td>\n",
       "      <td>NTAsMTAw</td>\n",
       "      <td>10.10</td>\n",
       "      <td>-45.9</td>\n",
       "      <td>35099</td>\n",
       "      <td>t</td>\n",
       "      <td>2020-04-15 00:00:06.437</td>\n",
       "      <td>1</td>\n",
       "      <td>866900000</td>\n",
       "      <td>12</td>\n",
       "      <td>15</td>\n",
       "      <td>901</td>\n",
       "      <td>4/5</td>\n",
       "      <td>125000</td>\n",
       "      <td>1</td>\n",
       "      <td>1</td>\n",
       "      <td>111112</td>\n",
       "      <td>tf8o</td>\n",
       "    </tr>\n",
       "    <tr>\n",
       "      <th>2</th>\n",
       "      <td>5579</td>\n",
       "      <td>NTYsMTAw</td>\n",
       "      <td>9.89</td>\n",
       "      <td>-64.6</td>\n",
       "      <td>35099</td>\n",
       "      <td>t</td>\n",
       "      <td>2020-04-15 00:00:18.106</td>\n",
       "      <td>1</td>\n",
       "      <td>866900000</td>\n",
       "      <td>12</td>\n",
       "      <td>15</td>\n",
       "      <td>901</td>\n",
       "      <td>4/5</td>\n",
       "      <td>125000</td>\n",
       "      <td>0</td>\n",
       "      <td>1</td>\n",
       "      <td>111112</td>\n",
       "      <td>Rakn</td>\n",
       "    </tr>\n",
       "    <tr>\n",
       "      <th>3</th>\n",
       "      <td>5580</td>\n",
       "      <td>NTAsMTAw</td>\n",
       "      <td>6.92</td>\n",
       "      <td>-102.7</td>\n",
       "      <td>35099</td>\n",
       "      <td>t</td>\n",
       "      <td>2020-04-15 00:00:18.421</td>\n",
       "      <td>1</td>\n",
       "      <td>866900000</td>\n",
       "      <td>12</td>\n",
       "      <td>15</td>\n",
       "      <td>901</td>\n",
       "      <td>4/5</td>\n",
       "      <td>125000</td>\n",
       "      <td>0</td>\n",
       "      <td>1</td>\n",
       "      <td>111117</td>\n",
       "      <td>JFGw</td>\n",
       "    </tr>\n",
       "    <tr>\n",
       "      <th>4</th>\n",
       "      <td>5581</td>\n",
       "      <td>NTcsMTAw</td>\n",
       "      <td>8.08</td>\n",
       "      <td>-35.9</td>\n",
       "      <td>35099</td>\n",
       "      <td>t</td>\n",
       "      <td>2020-04-15 00:00:18.513</td>\n",
       "      <td>1</td>\n",
       "      <td>866900000</td>\n",
       "      <td>12</td>\n",
       "      <td>15</td>\n",
       "      <td>901</td>\n",
       "      <td>4/5</td>\n",
       "      <td>125000</td>\n",
       "      <td>0</td>\n",
       "      <td>1</td>\n",
       "      <td>111113</td>\n",
       "      <td>MxKJ</td>\n",
       "    </tr>\n",
       "  </tbody>\n",
       "</table>\n",
       "</div>"
      ],
      "text/plain": [
       "     id  app_data    snr   rssi  duty_cycle_remaining is_primary  \\\n",
       "0  5577  NTYsMTAw   8.02 -105.5                 35099          t   \n",
       "1  5578  NTAsMTAw  10.10  -45.9                 35099          t   \n",
       "2  5579  NTYsMTAw   9.89  -64.6                 35099          t   \n",
       "3  5580  NTAsMTAw   6.92 -102.7                 35099          t   \n",
       "4  5581  NTcsMTAw   8.08  -35.9                 35099          t   \n",
       "\n",
       "              receive_time  seq  frequency  spf  power  airtime coderate  \\\n",
       "0  2020-04-15 00:00:04.901    1  866900000   12     15      901      4/5   \n",
       "1  2020-04-15 00:00:06.437    1  866900000   12     15      901      4/5   \n",
       "2  2020-04-15 00:00:18.106    1  866900000   12     15      901      4/5   \n",
       "3  2020-04-15 00:00:18.421    1  866900000   12     15      901      4/5   \n",
       "4  2020-04-15 00:00:18.513    1  866900000   12     15      901      4/5   \n",
       "\n",
       "   bandwidth  msg_group_number  message_type_id   ap_id node_id  \n",
       "0     125000                 1                1  111115    dOPa  \n",
       "1     125000                 1                1  111112    tf8o  \n",
       "2     125000                 0                1  111112    Rakn  \n",
       "3     125000                 0                1  111117    JFGw  \n",
       "4     125000                 0                1  111113    MxKJ  "
      ]
     },
     "execution_count": 48,
     "metadata": {},
     "output_type": "execute_result"
    }
   ],
   "source": [
    "uplink_data.head()"
   ]
  },
  {
   "cell_type": "markdown",
   "metadata": {},
   "source": [
    "### Duty cycle korekcia hodnôt"
   ]
  },
  {
   "cell_type": "code",
   "execution_count": 56,
   "metadata": {},
   "outputs": [
    {
     "data": {
      "text/plain": [
       "0        -94501\n",
       "1        -94501\n",
       "2        -94501\n",
       "3        -94501\n",
       "4        -94501\n",
       "          ...  \n",
       "187632   -93671\n",
       "187633   -93646\n",
       "187634   -93646\n",
       "187635   -93646\n",
       "187636   -93640\n",
       "Name: duty_cycle_remaining, Length: 187637, dtype: int64"
      ]
     },
     "execution_count": 56,
     "metadata": {},
     "output_type": "execute_result"
    }
   ],
   "source": [
    "duty_cycle_remaining = uplink_data['duty_cycle_remaining']\n",
    "duty_cycle_remaining"
   ]
  },
  {
   "cell_type": "markdown",
   "metadata": {},
   "source": [
    "Samotná korekcia"
   ]
  },
  {
   "cell_type": "code",
   "execution_count": 67,
   "metadata": {},
   "outputs": [
    {
     "data": {
      "text/plain": [
       "count    187637.000000\n",
       "mean       3495.930541\n",
       "std          77.117040\n",
       "min        3110.200000\n",
       "25%        3451.800000\n",
       "50%        3492.200000\n",
       "75%        3587.200000\n",
       "max        3596.000000\n",
       "Name: duty_cycle_remaining, dtype: float64"
      ]
     },
     "execution_count": 67,
     "metadata": {},
     "output_type": "execute_result"
    }
   ],
   "source": [
    "duty_cycle_data = uplink_data[uplink_data['duty_cycle_remaining'] > 3600]\n",
    "duty_cycle_data = duty_cycle_data['duty_cycle_remaining'] / 10\n",
    "duty_cycle_data.describe()"
   ]
  },
  {
   "cell_type": "markdown",
   "metadata": {},
   "source": [
    "### Frekvencie"
   ]
  },
  {
   "cell_type": "code",
   "execution_count": 68,
   "metadata": {},
   "outputs": [
    {
     "data": {
      "text/plain": [
       "[866.1, 866.9]"
      ]
     },
     "execution_count": 68,
     "metadata": {},
     "output_type": "execute_result"
    }
   ],
   "source": [
    "sorted(uplink_data['frequency'].unique() / 1000000)"
   ]
  },
  {
   "cell_type": "markdown",
   "metadata": {},
   "source": [
    "### Faktor šírenia"
   ]
  },
  {
   "cell_type": "code",
   "execution_count": 69,
   "metadata": {
    "scrolled": true
   },
   "outputs": [
    {
     "data": {
      "text/plain": [
       "[7, 8, 9, 10, 11, 12]"
      ]
     },
     "execution_count": 69,
     "metadata": {},
     "output_type": "execute_result"
    }
   ],
   "source": [
    "sorted(uplink_data['spf'].unique())"
   ]
  },
  {
   "cell_type": "markdown",
   "metadata": {},
   "source": [
    "## Analýza atribútov"
   ]
  },
  {
   "cell_type": "markdown",
   "metadata": {},
   "source": [
    "### Využitie frekvenčného pásma"
   ]
  },
  {
   "cell_type": "code",
   "execution_count": 70,
   "metadata": {},
   "outputs": [
    {
     "data": {
      "image/png": "[encoded data removed]",
      "text/plain": [
       "<Figure size 432x288 with 1 Axes>"
      ]
     },
     "metadata": {
      "needs_background": "light"
     },
     "output_type": "display_data"
    }
   ],
   "source": [
    "uplink_frequency = uplink_data['frequency'] / 1000000\n",
    "plt.hist(uplink_frequency)\n",
    "plt.xlabel('Frekvencia [MHz]')\n",
    "plt.savefig('frequency.png')"
   ]
  },
  {
   "cell_type": "code",
   "execution_count": 71,
   "metadata": {
    "scrolled": true
   },
   "outputs": [
    {
     "data": {
      "image/png": "[encoded data removed]",
      "text/plain": [
       "<Figure size 432x288 with 1 Axes>"
      ]
     },
     "metadata": {
      "needs_background": "light"
     },
     "output_type": "display_data"
    }
   ],
   "source": [
    "plt.scatter(uplink_data['rssi'], uplink_data['snr'])\n",
    "plt.axis([-86,-84,8.4,8.6])\n",
    "plt.xlabel('RSSI [dBm]')\n",
    "plt.ylabel('SNR [dB]')\n",
    "plt.savefig('frequency.png')"
   ]
  },
  {
   "cell_type": "markdown",
   "metadata": {},
   "source": [
    "### Využitie LoRa prístupových bodov"
   ]
  },
  {
   "cell_type": "code",
   "execution_count": 72,
   "metadata": {},
   "outputs": [
    {
     "data": {
      "image/png": "[encoded data removed]",
      "text/plain": [
       "<Figure size 432x288 with 1 Axes>"
      ]
     },
     "metadata": {
      "needs_background": "light"
     },
     "output_type": "display_data"
    }
   ],
   "source": [
    "plt.hist(uplink_data['ap_id'])\n",
    "plt.xlabel('AP id')\n",
    "plt.savefig('acess_points.png')"
   ]
  },
  {
   "cell_type": "markdown",
   "metadata": {},
   "source": [
    "### Trvanie prenosu"
   ]
  },
  {
   "cell_type": "code",
   "execution_count": 73,
   "metadata": {},
   "outputs": [
    {
     "data": {
      "text/plain": [
       "[40, 46, 71, 82, 128, 147, 233, 266, 495, 568, 901, 1032]"
      ]
     },
     "execution_count": 73,
     "metadata": {},
     "output_type": "execute_result"
    }
   ],
   "source": [
    "sorted(uplink_data['airtime'].unique())"
   ]
  },
  {
   "cell_type": "markdown",
   "metadata": {},
   "source": [
    "### Vysielací výkon"
   ]
  },
  {
   "cell_type": "code",
   "execution_count": 19,
   "metadata": {},
   "outputs": [
    {
     "data": {
      "text/plain": [
       "[5, 6, 7, 8, 9, 10, 11, 12, 13, 14, 15]"
      ]
     },
     "execution_count": 19,
     "metadata": {},
     "output_type": "execute_result"
    }
   ],
   "source": [
    "sorted(uplink_data['power'].unique())"
   ]
  },
  {
   "cell_type": "markdown",
   "metadata": {},
   "source": [
    "### Údaje o koncových zariadeniach"
   ]
  },
  {
   "cell_type": "code",
   "execution_count": 77,
   "metadata": {},
   "outputs": [
    {
     "data": {
      "text/plain": [
       "count     187637\n",
       "unique      5696\n",
       "top         NuYt\n",
       "freq          61\n",
       "Name: node_id, dtype: object"
      ]
     },
     "execution_count": 77,
     "metadata": {},
     "output_type": "execute_result"
    }
   ],
   "source": [
    "uplink_data['node_id'].describe()"
   ]
  },
  {
   "cell_type": "markdown",
   "metadata": {},
   "source": [
    "## Koncové zariadenia"
   ]
  },
  {
   "cell_type": "code",
   "execution_count": 85,
   "metadata": {},
   "outputs": [],
   "source": [
    "nodes_data = uplink_data['node_id'].unique()"
   ]
  },
  {
   "cell_type": "code",
   "execution_count": 91,
   "metadata": {},
   "outputs": [
    {
     "data": {
      "text/plain": [
       "0         dOPa\n",
       "1         tf8o\n",
       "2         Rakn\n",
       "3         JFGw\n",
       "4         MxKJ\n",
       "          ... \n",
       "187632    kkKt\n",
       "187633    cAR1\n",
       "187634    nBVm\n",
       "187635    ZnUQ\n",
       "187636    adN6\n",
       "Name: node_id, Length: 187637, dtype: object"
      ]
     },
     "execution_count": 91,
     "metadata": {},
     "output_type": "execute_result"
    }
   ],
   "source": [
    "uplink_data['node_id']"
   ]
  }
 ],
 "metadata": {
  "kernelspec": {
   "display_name": "Python 3",
   "language": "python",
   "name": "python3"
  },
  "language_info": {
   "codemirror_mode": {
    "name": "ipython",
    "version": 3
   },
   "file_extension": ".py",
   "mimetype": "text/x-python",
   "name": "python",
   "nbconvert_exporter": "python",
   "pygments_lexer": "ipython3",
   "version": "3.7.6"
  }
 },
 "nbformat": 4,
 "nbformat_minor": 2
}
