{
 "cells": [
  {
   "cell_type": "markdown",
   "metadata": {},
   "source": [
    "# LoRa@FIIT- 18.4.2020\n"
   ]
  },
  {
   "cell_type": "markdown",
   "metadata": {},
   "source": [
    "Code Rate: 4/5"
   ]
  },
  {
   "cell_type": "markdown",
   "metadata": {},
   "source": [
    "Bandwidth: 125 kHz"
   ]
  },
  {
   "cell_type": "code",
   "execution_count": 1,
   "metadata": {},
   "outputs": [],
   "source": [
    "%matplotlib inline\n",
    "import pandas as pd\n",
    "import numpy as np\n",
    "import matplotlib.pyplot as plt"
   ]
  },
  {
   "cell_type": "markdown",
   "metadata": {},
   "source": [
    "## Uplink dáta"
   ]
  },
  {
   "cell_type": "markdown",
   "metadata": {},
   "source": [
    "Načítanie uplink dát"
   ]
  },
  {
   "cell_type": "code",
   "execution_count": 2,
   "metadata": {},
   "outputs": [],
   "source": [
    "uplink_data = pd.read_csv('uplink_messages.csv', delimiter=',')"
   ]
  },
  {
   "cell_type": "code",
   "execution_count": 3,
   "metadata": {
    "scrolled": true
   },
   "outputs": [
    {
     "data": {
      "text/html": [
       "<div>\n",
       "<style scoped>\n",
       "    .dataframe tbody tr th:only-of-type {\n",
       "        vertical-align: middle;\n",
       "    }\n",
       "\n",
       "    .dataframe tbody tr th {\n",
       "        vertical-align: top;\n",
       "    }\n",
       "\n",
       "    .dataframe thead th {\n",
       "        text-align: right;\n",
       "    }\n",
       "</style>\n",
       "<table border=\"1\" class=\"dataframe\">\n",
       "  <thead>\n",
       "    <tr style=\"text-align: right;\">\n",
       "      <th></th>\n",
       "      <th>id</th>\n",
       "      <th>app_data</th>\n",
       "      <th>snr</th>\n",
       "      <th>rssi</th>\n",
       "      <th>duty_cycle_remaining</th>\n",
       "      <th>is_primary</th>\n",
       "      <th>receive_time</th>\n",
       "      <th>seq</th>\n",
       "      <th>frequency</th>\n",
       "      <th>spf</th>\n",
       "      <th>power</th>\n",
       "      <th>airtime</th>\n",
       "      <th>coderate</th>\n",
       "      <th>bandwidth</th>\n",
       "      <th>msg_group_number</th>\n",
       "      <th>message_type_id</th>\n",
       "      <th>ap_id</th>\n",
       "      <th>node_id</th>\n",
       "    </tr>\n",
       "  </thead>\n",
       "  <tbody>\n",
       "    <tr>\n",
       "      <th>0</th>\n",
       "      <td>564794</td>\n",
       "      <td>MTQ4LDEwMA==</td>\n",
       "      <td>9.09</td>\n",
       "      <td>-64.7</td>\n",
       "      <td>3554</td>\n",
       "      <td>t</td>\n",
       "      <td>2020-04-17 20:32:35.956</td>\n",
       "      <td>1</td>\n",
       "      <td>866900000</td>\n",
       "      <td>7</td>\n",
       "      <td>14</td>\n",
       "      <td>46</td>\n",
       "      <td>4/5</td>\n",
       "      <td>125000</td>\n",
       "      <td>0</td>\n",
       "      <td>1</td>\n",
       "      <td>111119</td>\n",
       "      <td>xb15</td>\n",
       "    </tr>\n",
       "    <tr>\n",
       "      <th>1</th>\n",
       "      <td>564795</td>\n",
       "      <td>NTcsMTAw</td>\n",
       "      <td>9.60</td>\n",
       "      <td>-65.7</td>\n",
       "      <td>2699</td>\n",
       "      <td>t</td>\n",
       "      <td>2020-04-17 20:32:41.466</td>\n",
       "      <td>1</td>\n",
       "      <td>866900000</td>\n",
       "      <td>12</td>\n",
       "      <td>15</td>\n",
       "      <td>901</td>\n",
       "      <td>4/5</td>\n",
       "      <td>125000</td>\n",
       "      <td>0</td>\n",
       "      <td>1</td>\n",
       "      <td>111116</td>\n",
       "      <td>qjvc</td>\n",
       "    </tr>\n",
       "    <tr>\n",
       "      <th>2</th>\n",
       "      <td>564796</td>\n",
       "      <td>NTIsMTAw</td>\n",
       "      <td>8.32</td>\n",
       "      <td>-89.3</td>\n",
       "      <td>2699</td>\n",
       "      <td>t</td>\n",
       "      <td>2020-04-17 20:32:42.558</td>\n",
       "      <td>1</td>\n",
       "      <td>866900000</td>\n",
       "      <td>12</td>\n",
       "      <td>15</td>\n",
       "      <td>901</td>\n",
       "      <td>4/5</td>\n",
       "      <td>125000</td>\n",
       "      <td>1</td>\n",
       "      <td>1</td>\n",
       "      <td>111117</td>\n",
       "      <td>qjvc</td>\n",
       "    </tr>\n",
       "    <tr>\n",
       "      <th>3</th>\n",
       "      <td>564797</td>\n",
       "      <td>NTUsMTAw</td>\n",
       "      <td>11.12</td>\n",
       "      <td>-96.4</td>\n",
       "      <td>2699</td>\n",
       "      <td>t</td>\n",
       "      <td>2020-04-17 20:32:47.923</td>\n",
       "      <td>1</td>\n",
       "      <td>866900000</td>\n",
       "      <td>12</td>\n",
       "      <td>15</td>\n",
       "      <td>901</td>\n",
       "      <td>4/5</td>\n",
       "      <td>125000</td>\n",
       "      <td>0</td>\n",
       "      <td>1</td>\n",
       "      <td>111111</td>\n",
       "      <td>jrDA</td>\n",
       "    </tr>\n",
       "    <tr>\n",
       "      <th>4</th>\n",
       "      <td>564798</td>\n",
       "      <td>MTQ2LDEwMA==</td>\n",
       "      <td>11.32</td>\n",
       "      <td>-44.7</td>\n",
       "      <td>2568</td>\n",
       "      <td>t</td>\n",
       "      <td>2020-04-17 20:32:50.485</td>\n",
       "      <td>1</td>\n",
       "      <td>866900000</td>\n",
       "      <td>12</td>\n",
       "      <td>15</td>\n",
       "      <td>1032</td>\n",
       "      <td>4/5</td>\n",
       "      <td>125000</td>\n",
       "      <td>1</td>\n",
       "      <td>1</td>\n",
       "      <td>111115</td>\n",
       "      <td>jrDA</td>\n",
       "    </tr>\n",
       "  </tbody>\n",
       "</table>\n",
       "</div>"
      ],
      "text/plain": [
       "       id      app_data    snr  rssi  duty_cycle_remaining is_primary  \\\n",
       "0  564794  MTQ4LDEwMA==   9.09 -64.7                  3554          t   \n",
       "1  564795      NTcsMTAw   9.60 -65.7                  2699          t   \n",
       "2  564796      NTIsMTAw   8.32 -89.3                  2699          t   \n",
       "3  564797      NTUsMTAw  11.12 -96.4                  2699          t   \n",
       "4  564798  MTQ2LDEwMA==  11.32 -44.7                  2568          t   \n",
       "\n",
       "              receive_time  seq  frequency  spf  power  airtime coderate  \\\n",
       "0  2020-04-17 20:32:35.956    1  866900000    7     14       46      4/5   \n",
       "1  2020-04-17 20:32:41.466    1  866900000   12     15      901      4/5   \n",
       "2  2020-04-17 20:32:42.558    1  866900000   12     15      901      4/5   \n",
       "3  2020-04-17 20:32:47.923    1  866900000   12     15      901      4/5   \n",
       "4  2020-04-17 20:32:50.485    1  866900000   12     15     1032      4/5   \n",
       "\n",
       "   bandwidth  msg_group_number  message_type_id   ap_id node_id  \n",
       "0     125000                 0                1  111119    xb15  \n",
       "1     125000                 0                1  111116    qjvc  \n",
       "2     125000                 1                1  111117    qjvc  \n",
       "3     125000                 0                1  111111    jrDA  \n",
       "4     125000                 1                1  111115    jrDA  "
      ]
     },
     "execution_count": 3,
     "metadata": {},
     "output_type": "execute_result"
    }
   ],
   "source": [
    "uplink_data.head()"
   ]
  },
  {
   "cell_type": "markdown",
   "metadata": {},
   "source": [
    "Odstránime nepotrebné stĺpce"
   ]
  },
  {
   "cell_type": "code",
   "execution_count": 4,
   "metadata": {},
   "outputs": [],
   "source": [
    "del uplink_data['id']\n",
    "del uplink_data['msg_group_number']\n",
    "del uplink_data['is_primary']\n",
    "del uplink_data['message_type_id']\n",
    "del uplink_data['coderate']\n",
    "del uplink_data['bandwidth']\n",
    "del uplink_data['receive_time']"
   ]
  },
  {
   "cell_type": "markdown",
   "metadata": {},
   "source": [
    "Pridanie stĺpca pre ruku banditu. Poslúži na neskoršie porovnanie"
   ]
  },
  {
   "cell_type": "code",
   "execution_count": 5,
   "metadata": {},
   "outputs": [
    {
     "data": {
      "text/html": [
       "<div>\n",
       "<style scoped>\n",
       "    .dataframe tbody tr th:only-of-type {\n",
       "        vertical-align: middle;\n",
       "    }\n",
       "\n",
       "    .dataframe tbody tr th {\n",
       "        vertical-align: top;\n",
       "    }\n",
       "\n",
       "    .dataframe thead th {\n",
       "        text-align: right;\n",
       "    }\n",
       "</style>\n",
       "<table border=\"1\" class=\"dataframe\">\n",
       "  <thead>\n",
       "    <tr style=\"text-align: right;\">\n",
       "      <th></th>\n",
       "      <th>app_data</th>\n",
       "      <th>snr</th>\n",
       "      <th>rssi</th>\n",
       "      <th>duty_cycle_remaining</th>\n",
       "      <th>seq</th>\n",
       "      <th>frequency</th>\n",
       "      <th>spf</th>\n",
       "      <th>power</th>\n",
       "      <th>airtime</th>\n",
       "      <th>ap_id</th>\n",
       "      <th>node_id</th>\n",
       "    </tr>\n",
       "  </thead>\n",
       "  <tbody>\n",
       "    <tr>\n",
       "      <th>0</th>\n",
       "      <td>MTQ4LDEwMA==</td>\n",
       "      <td>9.09</td>\n",
       "      <td>-64.7</td>\n",
       "      <td>3554</td>\n",
       "      <td>1</td>\n",
       "      <td>866900000</td>\n",
       "      <td>7</td>\n",
       "      <td>14</td>\n",
       "      <td>46</td>\n",
       "      <td>111119</td>\n",
       "      <td>xb15</td>\n",
       "    </tr>\n",
       "    <tr>\n",
       "      <th>1</th>\n",
       "      <td>NTcsMTAw</td>\n",
       "      <td>9.60</td>\n",
       "      <td>-65.7</td>\n",
       "      <td>2699</td>\n",
       "      <td>1</td>\n",
       "      <td>866900000</td>\n",
       "      <td>12</td>\n",
       "      <td>15</td>\n",
       "      <td>901</td>\n",
       "      <td>111116</td>\n",
       "      <td>qjvc</td>\n",
       "    </tr>\n",
       "    <tr>\n",
       "      <th>2</th>\n",
       "      <td>NTIsMTAw</td>\n",
       "      <td>8.32</td>\n",
       "      <td>-89.3</td>\n",
       "      <td>2699</td>\n",
       "      <td>1</td>\n",
       "      <td>866900000</td>\n",
       "      <td>12</td>\n",
       "      <td>15</td>\n",
       "      <td>901</td>\n",
       "      <td>111117</td>\n",
       "      <td>qjvc</td>\n",
       "    </tr>\n",
       "    <tr>\n",
       "      <th>3</th>\n",
       "      <td>NTUsMTAw</td>\n",
       "      <td>11.12</td>\n",
       "      <td>-96.4</td>\n",
       "      <td>2699</td>\n",
       "      <td>1</td>\n",
       "      <td>866900000</td>\n",
       "      <td>12</td>\n",
       "      <td>15</td>\n",
       "      <td>901</td>\n",
       "      <td>111111</td>\n",
       "      <td>jrDA</td>\n",
       "    </tr>\n",
       "    <tr>\n",
       "      <th>4</th>\n",
       "      <td>MTQ2LDEwMA==</td>\n",
       "      <td>11.32</td>\n",
       "      <td>-44.7</td>\n",
       "      <td>2568</td>\n",
       "      <td>1</td>\n",
       "      <td>866900000</td>\n",
       "      <td>12</td>\n",
       "      <td>15</td>\n",
       "      <td>1032</td>\n",
       "      <td>111115</td>\n",
       "      <td>jrDA</td>\n",
       "    </tr>\n",
       "  </tbody>\n",
       "</table>\n",
       "</div>"
      ],
      "text/plain": [
       "       app_data    snr  rssi  duty_cycle_remaining  seq  frequency  spf  \\\n",
       "0  MTQ4LDEwMA==   9.09 -64.7                  3554    1  866900000    7   \n",
       "1      NTcsMTAw   9.60 -65.7                  2699    1  866900000   12   \n",
       "2      NTIsMTAw   8.32 -89.3                  2699    1  866900000   12   \n",
       "3      NTUsMTAw  11.12 -96.4                  2699    1  866900000   12   \n",
       "4  MTQ2LDEwMA==  11.32 -44.7                  2568    1  866900000   12   \n",
       "\n",
       "   power  airtime   ap_id node_id  \n",
       "0     14       46  111119    xb15  \n",
       "1     15      901  111116    qjvc  \n",
       "2     15      901  111117    qjvc  \n",
       "3     15      901  111111    jrDA  \n",
       "4     15     1032  111115    jrDA  "
      ]
     },
     "execution_count": 5,
     "metadata": {},
     "output_type": "execute_result"
    }
   ],
   "source": [
    "uplink_data.head()"
   ]
  },
  {
   "cell_type": "code",
   "execution_count": 6,
   "metadata": {},
   "outputs": [],
   "source": [
    "uplink_data['arm'] = 'SF' + uplink_data.spf.astype(str) + 'PWR' + uplink_data.power.astype(str)"
   ]
  },
  {
   "cell_type": "markdown",
   "metadata": {},
   "source": [
    "### Voľba komunikačných parametrov"
   ]
  },
  {
   "cell_type": "code",
   "execution_count": 7,
   "metadata": {},
   "outputs": [
    {
     "data": {
      "text/plain": [
       "<matplotlib.axes._subplots.AxesSubplot at 0x7f6a8e492b90>"
      ]
     },
     "execution_count": 7,
     "metadata": {},
     "output_type": "execute_result"
    },
    {
     "data": {
      "image/png": "[encoded data removed]",
      "text/plain": [
       "<Figure size 1080x360 with 1 Axes>"
      ]
     },
     "metadata": {
      "needs_background": "light"
     },
     "output_type": "display_data"
    }
   ],
   "source": [
    "uplink_data.arm.value_counts().plot(kind='bar',figsize=(15,5))"
   ]
  },
  {
   "cell_type": "markdown",
   "metadata": {},
   "source": [
    "### Voľba komunikačných parametrov a RSSI"
   ]
  },
  {
   "cell_type": "code",
   "execution_count": 8,
   "metadata": {
    "scrolled": false
   },
   "outputs": [
    {
     "data": {
      "image/png": "[encoded data removed]",
      "text/plain": [
       "<Figure size 432x288 with 1 Axes>"
      ]
     },
     "metadata": {
      "needs_background": "light"
     },
     "output_type": "display_data"
    }
   ],
   "source": [
    "plt.scatter(uplink_data.arm, uplink_data.rssi)\n",
    "plt.title(\"Porovnanie RSSI a rúk banditu\")\n",
    "plt.xlabel('Parametre')\n",
    "plt.ylabel('RSSI [dBm]')\n",
    "# plt.savefig('bandit_arms_rssi.png')\n",
    "plt.show()"
   ]
  },
  {
   "cell_type": "markdown",
   "metadata": {},
   "source": [
    "### Voľba komunikačných parametrov a SNR"
   ]
  },
  {
   "cell_type": "code",
   "execution_count": 12,
   "metadata": {},
   "outputs": [
    {
     "data": {
      "text/plain": [
       "Text(0, 0.5, 'SNR [dB]')"
      ]
     },
     "execution_count": 12,
     "metadata": {},
     "output_type": "execute_result"
    },
    {
     "data": {
      "image/png": "[encoded data removed]",
      "text/plain": [
       "<Figure size 432x288 with 1 Axes>"
      ]
     },
     "metadata": {
      "needs_background": "light"
     },
     "output_type": "display_data"
    }
   ],
   "source": [
    "plt.scatter(uplink_data.arm, uplink_data.snr)\n",
    "plt.title(\"Porovnanie SNR a rúk banditu\")\n",
    "plt.xlabel('Parametre')\n",
    "plt.ylabel('SNR [dB]')\n",
    "# plt.savefig('bandit_arms_snr.png')"
   ]
  },
  {
   "cell_type": "markdown",
   "metadata": {},
   "source": [
    "### Duty cycle korekcia hodnôt"
   ]
  },
  {
   "cell_type": "code",
   "execution_count": 18,
   "metadata": {},
   "outputs": [
    {
     "data": {
      "text/plain": [
       "count    278490.000000\n",
       "mean       1259.280369\n",
       "std         779.642671\n",
       "min           1.000000\n",
       "25%         566.000000\n",
       "50%        1238.000000\n",
       "75%        1960.000000\n",
       "max        3560.000000\n",
       "Name: duty_cycle_remaining, dtype: float64"
      ]
     },
     "execution_count": 18,
     "metadata": {},
     "output_type": "execute_result"
    }
   ],
   "source": [
    "uplink_data.duty_cycle_remaining.describe()"
   ]
  },
  {
   "cell_type": "markdown",
   "metadata": {},
   "source": [
    "### Faktor šírenia (Spreading Factor)"
   ]
  },
  {
   "cell_type": "code",
   "execution_count": 19,
   "metadata": {
    "scrolled": true
   },
   "outputs": [
    {
     "data": {
      "text/plain": [
       "<matplotlib.axes._subplots.AxesSubplot at 0x7f6a8bbe5910>"
      ]
     },
     "execution_count": 19,
     "metadata": {},
     "output_type": "execute_result"
    },
    {
     "data": {
      "image/png": "[encoded data removed]",
      "text/plain": [
       "<Figure size 432x288 with 1 Axes>"
      ]
     },
     "metadata": {
      "needs_background": "light"
     },
     "output_type": "display_data"
    }
   ],
   "source": [
    "uplink_data.spf.value_counts().plot(kind='bar')"
   ]
  },
  {
   "cell_type": "markdown",
   "metadata": {},
   "source": [
    "### Využitie frekvenčného pásma"
   ]
  },
  {
   "cell_type": "code",
   "execution_count": 20,
   "metadata": {},
   "outputs": [
    {
     "data": {
      "text/plain": [
       "<matplotlib.axes._subplots.AxesSubplot at 0x7f6a8bba5a90>"
      ]
     },
     "execution_count": 20,
     "metadata": {},
     "output_type": "execute_result"
    },
    {
     "data": {
      "image/png": "[encoded data removed]",
      "text/plain": [
       "<Figure size 432x288 with 1 Axes>"
      ]
     },
     "metadata": {
      "needs_background": "light"
     },
     "output_type": "display_data"
    }
   ],
   "source": [
    "uplink_frequency = uplink_data.frequency / 1000000\n",
    "uplink_frequency.value_counts().plot(kind='bar')"
   ]
  },
  {
   "cell_type": "code",
   "execution_count": 22,
   "metadata": {
    "scrolled": true
   },
   "outputs": [
    {
     "data": {
      "image/png": "[encoded data removed]",
      "text/plain": [
       "<Figure size 432x288 with 1 Axes>"
      ]
     },
     "metadata": {
      "needs_background": "light"
     },
     "output_type": "display_data"
    }
   ],
   "source": [
    "plt.scatter(uplink_data.rssi, uplink_data.snr)\n",
    "plt.xlabel('RSSI [dBm]')\n",
    "plt.ylabel('SNR [dB]')\n",
    "plt.savefig('frequency.png')"
   ]
  },
  {
   "cell_type": "markdown",
   "metadata": {},
   "source": [
    "### Využitie LoRa prístupových bodov"
   ]
  },
  {
   "cell_type": "code",
   "execution_count": 23,
   "metadata": {},
   "outputs": [
    {
     "data": {
      "text/plain": [
       "<matplotlib.axes._subplots.AxesSubplot at 0x7f6a8ba1a550>"
      ]
     },
     "execution_count": 23,
     "metadata": {},
     "output_type": "execute_result"
    },
    {
     "data": {
      "image/png": "[encoded data removed]",
      "text/plain": [
       "<Figure size 432x288 with 1 Axes>"
      ]
     },
     "metadata": {
      "needs_background": "light"
     },
     "output_type": "display_data"
    }
   ],
   "source": [
    "uplink_data.ap_id.value_counts().plot(kind='bar')"
   ]
  },
  {
   "cell_type": "markdown",
   "metadata": {},
   "source": [
    "### Trvanie prenosu"
   ]
  },
  {
   "cell_type": "code",
   "execution_count": 24,
   "metadata": {},
   "outputs": [
    {
     "data": {
      "text/plain": [
       "46      93146\n",
       "40      81334\n",
       "901     29658\n",
       "1032    15258\n",
       "82      11193\n",
       "71       9568\n",
       "147      9551\n",
       "128      8309\n",
       "266      7057\n",
       "233      6150\n",
       "568      3899\n",
       "495      3367\n",
       "Name: airtime, dtype: int64"
      ]
     },
     "execution_count": 24,
     "metadata": {},
     "output_type": "execute_result"
    }
   ],
   "source": [
    "uplink_data.airtime.value_counts()"
   ]
  },
  {
   "cell_type": "markdown",
   "metadata": {},
   "source": [
    "### Vysielací výkon (Power)"
   ]
  },
  {
   "cell_type": "code",
   "execution_count": 25,
   "metadata": {
    "scrolled": true
   },
   "outputs": [
    {
     "data": {
      "text/plain": [
       "<matplotlib.axes._subplots.AxesSubplot at 0x7f6a8b994e50>"
      ]
     },
     "execution_count": 25,
     "metadata": {},
     "output_type": "execute_result"
    },
    {
     "data": {
      "image/png": "[encoded data removed]",
      "text/plain": [
       "<Figure size 432x288 with 1 Axes>"
      ]
     },
     "metadata": {
      "needs_background": "light"
     },
     "output_type": "display_data"
    }
   ],
   "source": [
    "uplink_data.power.value_counts().plot(kind=\"bar\")"
   ]
  },
  {
   "cell_type": "markdown",
   "metadata": {},
   "source": [
    "### Koncové zariadenia"
   ]
  },
  {
   "cell_type": "code",
   "execution_count": 26,
   "metadata": {
    "scrolled": true
   },
   "outputs": [
    {
     "data": {
      "text/plain": [
       "count     278490\n",
       "unique      2255\n",
       "top         25Wk\n",
       "freq         136\n",
       "Name: node_id, dtype: object"
      ]
     },
     "execution_count": 26,
     "metadata": {},
     "output_type": "execute_result"
    }
   ],
   "source": [
    "uplink_data.node_id.describe()"
   ]
  },
  {
   "cell_type": "code",
   "execution_count": 27,
   "metadata": {},
   "outputs": [],
   "source": [
    "nodes_data = uplink_data.node_id.unique()"
   ]
  },
  {
   "cell_type": "code",
   "execution_count": 28,
   "metadata": {},
   "outputs": [
    {
     "data": {
      "text/plain": [
       "0         xb15\n",
       "1         qjvc\n",
       "2         qjvc\n",
       "3         jrDA\n",
       "4         jrDA\n",
       "          ... \n",
       "278485    ffbE\n",
       "278486    WxkG\n",
       "278487    CMAm\n",
       "278488    8MmX\n",
       "278489    aWLW\n",
       "Name: node_id, Length: 278490, dtype: object"
      ]
     },
     "execution_count": 28,
     "metadata": {},
     "output_type": "execute_result"
    }
   ],
   "source": [
    "uplink_data.node_id"
   ]
  },
  {
   "cell_type": "markdown",
   "metadata": {},
   "source": [
    "## Downlink Messages"
   ]
  },
  {
   "cell_type": "code",
   "execution_count": 29,
   "metadata": {},
   "outputs": [],
   "source": [
    "downlink_data = pd.read_csv('downlink_messages.csv', delimiter=',')"
   ]
  },
  {
   "cell_type": "code",
   "execution_count": 30,
   "metadata": {
    "scrolled": true
   },
   "outputs": [
    {
     "data": {
      "text/html": [
       "<div>\n",
       "<style scoped>\n",
       "    .dataframe tbody tr th:only-of-type {\n",
       "        vertical-align: middle;\n",
       "    }\n",
       "\n",
       "    .dataframe tbody tr th {\n",
       "        vertical-align: top;\n",
       "    }\n",
       "\n",
       "    .dataframe thead th {\n",
       "        text-align: right;\n",
       "    }\n",
       "</style>\n",
       "<table border=\"1\" class=\"dataframe\">\n",
       "  <thead>\n",
       "    <tr style=\"text-align: right;\">\n",
       "      <th></th>\n",
       "      <th>id</th>\n",
       "      <th>app_data</th>\n",
       "      <th>net_data</th>\n",
       "      <th>duty_cycle_remaining</th>\n",
       "      <th>sent</th>\n",
       "      <th>ack_required</th>\n",
       "      <th>delivered</th>\n",
       "      <th>send_time</th>\n",
       "      <th>frequency</th>\n",
       "      <th>spf</th>\n",
       "      <th>power</th>\n",
       "      <th>airtime</th>\n",
       "      <th>coderate</th>\n",
       "      <th>bandwidth</th>\n",
       "      <th>ap_id</th>\n",
       "      <th>node_id</th>\n",
       "    </tr>\n",
       "  </thead>\n",
       "  <tbody>\n",
       "    <tr>\n",
       "      <th>0</th>\n",
       "      <td>90075</td>\n",
       "      <td>NaN</td>\n",
       "      <td>[]</td>\n",
       "      <td>1978</td>\n",
       "      <td>t</td>\n",
       "      <td>f</td>\n",
       "      <td>t</td>\n",
       "      <td>2020-04-17 20:51:25.591</td>\n",
       "      <td>866900000</td>\n",
       "      <td>12</td>\n",
       "      <td>15</td>\n",
       "      <td>1032</td>\n",
       "      <td>4/5</td>\n",
       "      <td>125000</td>\n",
       "      <td>111119</td>\n",
       "      <td>0ype</td>\n",
       "    </tr>\n",
       "    <tr>\n",
       "      <th>1</th>\n",
       "      <td>88705</td>\n",
       "      <td>NaN</td>\n",
       "      <td>[{\"sf\":7,\"power\":7,\"type\":\"NORMAL\"}]</td>\n",
       "      <td>35780</td>\n",
       "      <td>t</td>\n",
       "      <td>f</td>\n",
       "      <td>t</td>\n",
       "      <td>2020-04-17 08:28:58.382</td>\n",
       "      <td>866900000</td>\n",
       "      <td>7</td>\n",
       "      <td>15</td>\n",
       "      <td>40</td>\n",
       "      <td>4/5</td>\n",
       "      <td>125000</td>\n",
       "      <td>111116</td>\n",
       "      <td>CAI4</td>\n",
       "    </tr>\n",
       "    <tr>\n",
       "      <th>2</th>\n",
       "      <td>88706</td>\n",
       "      <td>NaN</td>\n",
       "      <td>[]</td>\n",
       "      <td>35788</td>\n",
       "      <td>t</td>\n",
       "      <td>f</td>\n",
       "      <td>t</td>\n",
       "      <td>2020-04-17 08:28:59.966</td>\n",
       "      <td>866900000</td>\n",
       "      <td>7</td>\n",
       "      <td>15</td>\n",
       "      <td>46</td>\n",
       "      <td>4/5</td>\n",
       "      <td>125000</td>\n",
       "      <td>111115</td>\n",
       "      <td>UALX</td>\n",
       "    </tr>\n",
       "    <tr>\n",
       "      <th>3</th>\n",
       "      <td>88707</td>\n",
       "      <td>NaN</td>\n",
       "      <td>[{\"sf\":7,\"power\":6,\"type\":\"NORMAL\"}]</td>\n",
       "      <td>35486</td>\n",
       "      <td>t</td>\n",
       "      <td>f</td>\n",
       "      <td>t</td>\n",
       "      <td>2020-04-17 08:29:00.594</td>\n",
       "      <td>866900000</td>\n",
       "      <td>7</td>\n",
       "      <td>15</td>\n",
       "      <td>40</td>\n",
       "      <td>4/5</td>\n",
       "      <td>125000</td>\n",
       "      <td>111114</td>\n",
       "      <td>JbU4</td>\n",
       "    </tr>\n",
       "    <tr>\n",
       "      <th>4</th>\n",
       "      <td>88708</td>\n",
       "      <td>NaN</td>\n",
       "      <td>[]</td>\n",
       "      <td>35794</td>\n",
       "      <td>t</td>\n",
       "      <td>f</td>\n",
       "      <td>t</td>\n",
       "      <td>2020-04-17 08:29:02.201</td>\n",
       "      <td>866900000</td>\n",
       "      <td>7</td>\n",
       "      <td>15</td>\n",
       "      <td>40</td>\n",
       "      <td>4/5</td>\n",
       "      <td>125000</td>\n",
       "      <td>111115</td>\n",
       "      <td>E82E</td>\n",
       "    </tr>\n",
       "  </tbody>\n",
       "</table>\n",
       "</div>"
      ],
      "text/plain": [
       "      id  app_data                              net_data  \\\n",
       "0  90075       NaN                                    []   \n",
       "1  88705       NaN  [{\"sf\":7,\"power\":7,\"type\":\"NORMAL\"}]   \n",
       "2  88706       NaN                                    []   \n",
       "3  88707       NaN  [{\"sf\":7,\"power\":6,\"type\":\"NORMAL\"}]   \n",
       "4  88708       NaN                                    []   \n",
       "\n",
       "   duty_cycle_remaining sent ack_required delivered                send_time  \\\n",
       "0                  1978    t            f         t  2020-04-17 20:51:25.591   \n",
       "1                 35780    t            f         t  2020-04-17 08:28:58.382   \n",
       "2                 35788    t            f         t  2020-04-17 08:28:59.966   \n",
       "3                 35486    t            f         t  2020-04-17 08:29:00.594   \n",
       "4                 35794    t            f         t  2020-04-17 08:29:02.201   \n",
       "\n",
       "   frequency  spf  power  airtime coderate  bandwidth   ap_id node_id  \n",
       "0  866900000   12     15     1032      4/5     125000  111119    0ype  \n",
       "1  866900000    7     15       40      4/5     125000  111116    CAI4  \n",
       "2  866900000    7     15       46      4/5     125000  111115    UALX  \n",
       "3  866900000    7     15       40      4/5     125000  111114    JbU4  \n",
       "4  866900000    7     15       40      4/5     125000  111115    E82E  "
      ]
     },
     "execution_count": 30,
     "metadata": {},
     "output_type": "execute_result"
    }
   ],
   "source": [
    "downlink_data.head()"
   ]
  },
  {
   "cell_type": "markdown",
   "metadata": {},
   "source": [
    "### Využitie LoRa prístupových bodov"
   ]
  },
  {
   "cell_type": "code",
   "execution_count": 31,
   "metadata": {},
   "outputs": [
    {
     "data": {
      "text/plain": [
       "<matplotlib.axes._subplots.AxesSubplot at 0x7f6a8ae8d8d0>"
      ]
     },
     "execution_count": 31,
     "metadata": {},
     "output_type": "execute_result"
    },
    {
     "data": {
      "image/png": "[encoded data removed]",
      "text/plain": [
       "<Figure size 432x288 with 1 Axes>"
      ]
     },
     "metadata": {
      "needs_background": "light"
     },
     "output_type": "display_data"
    }
   ],
   "source": [
    "downlink_data.ap_id.value_counts().plot(kind='bar')"
   ]
  },
  {
   "cell_type": "markdown",
   "metadata": {},
   "source": [
    "### Korekcia duty cycle (Pracovný cyklus)"
   ]
  },
  {
   "cell_type": "code",
   "execution_count": 34,
   "metadata": {},
   "outputs": [
    {
     "data": {
      "text/plain": [
       "count    20500.000000\n",
       "mean      1201.293366\n",
       "std       4409.449621\n",
       "min          1.000000\n",
       "25%        242.000000\n",
       "50%        516.000000\n",
       "75%        840.000000\n",
       "max      35806.000000\n",
       "Name: duty_cycle_remaining, dtype: float64"
      ]
     },
     "execution_count": 34,
     "metadata": {},
     "output_type": "execute_result"
    }
   ],
   "source": [
    "downlink_data.duty_cycle_remaining.describe()"
   ]
  },
  {
   "cell_type": "markdown",
   "metadata": {},
   "source": [
    "### Spreading Factor (Faktor šírenia)"
   ]
  },
  {
   "cell_type": "code",
   "execution_count": 35,
   "metadata": {
    "scrolled": true
   },
   "outputs": [
    {
     "data": {
      "text/plain": [
       "<matplotlib.axes._subplots.AxesSubplot at 0x7f6a8ad957d0>"
      ]
     },
     "execution_count": 35,
     "metadata": {},
     "output_type": "execute_result"
    },
    {
     "data": {
      "image/png": "[encoded data removed]",
      "text/plain": [
       "<Figure size 432x288 with 1 Axes>"
      ]
     },
     "metadata": {
      "needs_background": "light"
     },
     "output_type": "display_data"
    }
   ],
   "source": [
    "downlink_data.spf.value_counts().plot(kind='bar')"
   ]
  },
  {
   "cell_type": "markdown",
   "metadata": {},
   "source": [
    "### Využitie frekvenčného pásma"
   ]
  },
  {
   "cell_type": "code",
   "execution_count": 36,
   "metadata": {},
   "outputs": [
    {
     "data": {
      "text/plain": [
       "<matplotlib.axes._subplots.AxesSubplot at 0x7f6a8ad82090>"
      ]
     },
     "execution_count": 36,
     "metadata": {},
     "output_type": "execute_result"
    },
    {
     "data": {
      "image/png": "[encoded data removed]",
      "text/plain": [
       "<Figure size 432x288 with 1 Axes>"
      ]
     },
     "metadata": {
      "needs_background": "light"
     },
     "output_type": "display_data"
    }
   ],
   "source": [
    "downlink_frequency = downlink_data.frequency / 1000000\n",
    "downlink_frequency.value_counts().plot(kind='bar')"
   ]
  },
  {
   "cell_type": "markdown",
   "metadata": {},
   "source": [
    "### Vysielací výkon (Power)"
   ]
  },
  {
   "cell_type": "code",
   "execution_count": 37,
   "metadata": {},
   "outputs": [
    {
     "data": {
      "text/plain": [
       "<matplotlib.axes._subplots.AxesSubplot at 0x7f6a8acf2b10>"
      ]
     },
     "execution_count": 37,
     "metadata": {},
     "output_type": "execute_result"
    },
    {
     "data": {
      "image/png": "[encoded data removed]",
      "text/plain": [
       "<Figure size 432x288 with 1 Axes>"
      ]
     },
     "metadata": {
      "needs_background": "light"
     },
     "output_type": "display_data"
    }
   ],
   "source": [
    "downlink_data.power.value_counts().plot(kind=\"bar\")"
   ]
  },
  {
   "cell_type": "markdown",
   "metadata": {},
   "source": [
    "### Trvanie prenosu"
   ]
  },
  {
   "cell_type": "code",
   "execution_count": 38,
   "metadata": {
    "scrolled": true
   },
   "outputs": [
    {
     "data": {
      "text/plain": [
       "901     13465\n",
       "1032     6698\n",
       "40        233\n",
       "46        104\n",
       "Name: airtime, dtype: int64"
      ]
     },
     "execution_count": 38,
     "metadata": {},
     "output_type": "execute_result"
    }
   ],
   "source": [
    "downlink_data.airtime.value_counts()"
   ]
  },
  {
   "cell_type": "markdown",
   "metadata": {},
   "source": [
    "### Koncové zariadenia"
   ]
  },
  {
   "cell_type": "code",
   "execution_count": 39,
   "metadata": {},
   "outputs": [
    {
     "data": {
      "text/plain": [
       "count     20500\n",
       "unique     2568\n",
       "top        102Q\n",
       "freq         20\n",
       "Name: node_id, dtype: object"
      ]
     },
     "execution_count": 39,
     "metadata": {},
     "output_type": "execute_result"
    }
   ],
   "source": [
    "downlink_data.node_id.describe()"
   ]
  }
 ],
 "metadata": {
  "kernelspec": {
   "display_name": "Python 3",
   "language": "python",
   "name": "python3"
  },
  "language_info": {
   "codemirror_mode": {
    "name": "ipython",
    "version": 3
   },
   "file_extension": ".py",
   "mimetype": "text/x-python",
   "name": "python",
   "nbconvert_exporter": "python",
   "pygments_lexer": "ipython3",
   "version": "3.7.6"
  }
 },
 "nbformat": 4,
 "nbformat_minor": 2
}
