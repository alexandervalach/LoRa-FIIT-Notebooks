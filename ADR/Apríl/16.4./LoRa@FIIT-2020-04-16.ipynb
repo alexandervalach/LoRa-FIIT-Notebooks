{
 "cells": [
  {
   "cell_type": "markdown",
   "metadata": {},
   "source": [
    "# LoRa@FIIT- 16.4.2020\n"
   ]
  },
  {
   "cell_type": "markdown",
   "metadata": {},
   "source": [
    "Code Rate: 4/5"
   ]
  },
  {
   "cell_type": "markdown",
   "metadata": {},
   "source": [
    "Bandwidth: 125 kHz"
   ]
  },
  {
   "cell_type": "code",
   "execution_count": 2,
   "metadata": {},
   "outputs": [],
   "source": [
    "%matplotlib inline\n",
    "import pandas as pd\n",
    "import numpy as np\n",
    "import matplotlib.pyplot as plt"
   ]
  },
  {
   "cell_type": "markdown",
   "metadata": {},
   "source": [
    "Načítanie uplink dát"
   ]
  },
  {
   "cell_type": "code",
   "execution_count": 3,
   "metadata": {},
   "outputs": [],
   "source": [
    "uplink_data = pd.read_csv('uplink_messages.csv', delimiter=',')"
   ]
  },
  {
   "cell_type": "markdown",
   "metadata": {},
   "source": [
    "Načítanie downlink dát"
   ]
  },
  {
   "cell_type": "code",
   "execution_count": 4,
   "metadata": {
    "scrolled": false
   },
   "outputs": [],
   "source": [
    "downlink_data = pd.read_csv('downlink_messages.csv', delimiter=',')"
   ]
  },
  {
   "cell_type": "markdown",
   "metadata": {},
   "source": [
    "## Uplink data"
   ]
  },
  {
   "cell_type": "code",
   "execution_count": 5,
   "metadata": {},
   "outputs": [
    {
     "data": {
      "text/html": [
       "<div>\n",
       "<style scoped>\n",
       "    .dataframe tbody tr th:only-of-type {\n",
       "        vertical-align: middle;\n",
       "    }\n",
       "\n",
       "    .dataframe tbody tr th {\n",
       "        vertical-align: top;\n",
       "    }\n",
       "\n",
       "    .dataframe thead th {\n",
       "        text-align: right;\n",
       "    }\n",
       "</style>\n",
       "<table border=\"1\" class=\"dataframe\">\n",
       "  <thead>\n",
       "    <tr style=\"text-align: right;\">\n",
       "      <th></th>\n",
       "      <th>id</th>\n",
       "      <th>app_data</th>\n",
       "      <th>snr</th>\n",
       "      <th>rssi</th>\n",
       "      <th>duty_cycle_remaining</th>\n",
       "      <th>is_primary</th>\n",
       "      <th>receive_time</th>\n",
       "      <th>seq</th>\n",
       "      <th>frequency</th>\n",
       "      <th>spf</th>\n",
       "      <th>power</th>\n",
       "      <th>airtime</th>\n",
       "      <th>coderate</th>\n",
       "      <th>bandwidth</th>\n",
       "      <th>msg_group_number</th>\n",
       "      <th>message_type_id</th>\n",
       "      <th>ap_id</th>\n",
       "      <th>node_id</th>\n",
       "    </tr>\n",
       "  </thead>\n",
       "  <tbody>\n",
       "    <tr>\n",
       "      <th>0</th>\n",
       "      <td>193214</td>\n",
       "      <td>OTAsMTAw</td>\n",
       "      <td>9.95</td>\n",
       "      <td>-45.6</td>\n",
       "      <td>35960</td>\n",
       "      <td>t</td>\n",
       "      <td>2020-04-16 00:00:00.992</td>\n",
       "      <td>1</td>\n",
       "      <td>866100000</td>\n",
       "      <td>7</td>\n",
       "      <td>12</td>\n",
       "      <td>40</td>\n",
       "      <td>4/5</td>\n",
       "      <td>125000</td>\n",
       "      <td>52</td>\n",
       "      <td>1</td>\n",
       "      <td>111118</td>\n",
       "      <td>gfq2</td>\n",
       "    </tr>\n",
       "    <tr>\n",
       "      <th>1</th>\n",
       "      <td>193215</td>\n",
       "      <td>MTIzLDEwMA==</td>\n",
       "      <td>7.34</td>\n",
       "      <td>-93.6</td>\n",
       "      <td>35734</td>\n",
       "      <td>t</td>\n",
       "      <td>2020-04-16 00:00:01.975</td>\n",
       "      <td>1</td>\n",
       "      <td>866100000</td>\n",
       "      <td>10</td>\n",
       "      <td>13</td>\n",
       "      <td>266</td>\n",
       "      <td>4/5</td>\n",
       "      <td>125000</td>\n",
       "      <td>8</td>\n",
       "      <td>1</td>\n",
       "      <td>111114</td>\n",
       "      <td>m2HF</td>\n",
       "    </tr>\n",
       "    <tr>\n",
       "      <th>2</th>\n",
       "      <td>193216</td>\n",
       "      <td>NjUsMTAw</td>\n",
       "      <td>9.43</td>\n",
       "      <td>-84.0</td>\n",
       "      <td>35960</td>\n",
       "      <td>t</td>\n",
       "      <td>2020-04-16 00:00:05.164</td>\n",
       "      <td>1</td>\n",
       "      <td>866100000</td>\n",
       "      <td>7</td>\n",
       "      <td>8</td>\n",
       "      <td>40</td>\n",
       "      <td>4/5</td>\n",
       "      <td>125000</td>\n",
       "      <td>48</td>\n",
       "      <td>1</td>\n",
       "      <td>111120</td>\n",
       "      <td>zoRc</td>\n",
       "    </tr>\n",
       "    <tr>\n",
       "      <th>3</th>\n",
       "      <td>193217</td>\n",
       "      <td>OTMsMTAw</td>\n",
       "      <td>7.03</td>\n",
       "      <td>-61.8</td>\n",
       "      <td>35505</td>\n",
       "      <td>t</td>\n",
       "      <td>2020-04-16 00:00:05.625</td>\n",
       "      <td>1</td>\n",
       "      <td>866100000</td>\n",
       "      <td>11</td>\n",
       "      <td>15</td>\n",
       "      <td>495</td>\n",
       "      <td>4/5</td>\n",
       "      <td>125000</td>\n",
       "      <td>11</td>\n",
       "      <td>1</td>\n",
       "      <td>111120</td>\n",
       "      <td>gX8g</td>\n",
       "    </tr>\n",
       "    <tr>\n",
       "      <th>4</th>\n",
       "      <td>193218</td>\n",
       "      <td>MTQ0LDEwMA==</td>\n",
       "      <td>11.43</td>\n",
       "      <td>-79.1</td>\n",
       "      <td>35954</td>\n",
       "      <td>t</td>\n",
       "      <td>2020-04-16 00:00:05.949</td>\n",
       "      <td>1</td>\n",
       "      <td>866100000</td>\n",
       "      <td>7</td>\n",
       "      <td>5</td>\n",
       "      <td>46</td>\n",
       "      <td>4/5</td>\n",
       "      <td>125000</td>\n",
       "      <td>52</td>\n",
       "      <td>1</td>\n",
       "      <td>111112</td>\n",
       "      <td>D6TE</td>\n",
       "    </tr>\n",
       "  </tbody>\n",
       "</table>\n",
       "</div>"
      ],
      "text/plain": [
       "       id      app_data    snr  rssi  duty_cycle_remaining is_primary  \\\n",
       "0  193214      OTAsMTAw   9.95 -45.6                 35960          t   \n",
       "1  193215  MTIzLDEwMA==   7.34 -93.6                 35734          t   \n",
       "2  193216      NjUsMTAw   9.43 -84.0                 35960          t   \n",
       "3  193217      OTMsMTAw   7.03 -61.8                 35505          t   \n",
       "4  193218  MTQ0LDEwMA==  11.43 -79.1                 35954          t   \n",
       "\n",
       "              receive_time  seq  frequency  spf  power  airtime coderate  \\\n",
       "0  2020-04-16 00:00:00.992    1  866100000    7     12       40      4/5   \n",
       "1  2020-04-16 00:00:01.975    1  866100000   10     13      266      4/5   \n",
       "2  2020-04-16 00:00:05.164    1  866100000    7      8       40      4/5   \n",
       "3  2020-04-16 00:00:05.625    1  866100000   11     15      495      4/5   \n",
       "4  2020-04-16 00:00:05.949    1  866100000    7      5       46      4/5   \n",
       "\n",
       "   bandwidth  msg_group_number  message_type_id   ap_id node_id  \n",
       "0     125000                52                1  111118    gfq2  \n",
       "1     125000                 8                1  111114    m2HF  \n",
       "2     125000                48                1  111120    zoRc  \n",
       "3     125000                11                1  111120    gX8g  \n",
       "4     125000                52                1  111112    D6TE  "
      ]
     },
     "execution_count": 5,
     "metadata": {},
     "output_type": "execute_result"
    }
   ],
   "source": [
    "uplink_data.head()"
   ]
  },
  {
   "cell_type": "markdown",
   "metadata": {},
   "source": [
    "### Duty cycle korekcia hodnôt"
   ]
  },
  {
   "cell_type": "code",
   "execution_count": 6,
   "metadata": {},
   "outputs": [
    {
     "data": {
      "text/plain": [
       "0         35960\n",
       "1         35734\n",
       "2         35960\n",
       "3         35505\n",
       "4         35954\n",
       "          ...  \n",
       "206469    35960\n",
       "206470    35954\n",
       "206471    35960\n",
       "206472    35954\n",
       "206473    35954\n",
       "Name: duty_cycle_remaining, Length: 206474, dtype: int64"
      ]
     },
     "execution_count": 6,
     "metadata": {},
     "output_type": "execute_result"
    }
   ],
   "source": [
    "duty_cycle_remaining = uplink_data['duty_cycle_remaining']\n",
    "duty_cycle_remaining"
   ]
  },
  {
   "cell_type": "markdown",
   "metadata": {},
   "source": [
    "Samotná korekcia"
   ]
  },
  {
   "cell_type": "code",
   "execution_count": 7,
   "metadata": {},
   "outputs": [
    {
     "data": {
      "text/plain": [
       "count    206474.000000\n",
       "mean       3584.816037\n",
       "std          16.466402\n",
       "min        3377.700000\n",
       "25%        3583.200000\n",
       "50%        3588.300000\n",
       "75%        3595.400000\n",
       "max        3596.000000\n",
       "Name: duty_cycle_remaining, dtype: float64"
      ]
     },
     "execution_count": 7,
     "metadata": {},
     "output_type": "execute_result"
    }
   ],
   "source": [
    "duty_cycle_data = uplink_data[uplink_data['duty_cycle_remaining'] > 3600]\n",
    "duty_cycle_data = duty_cycle_data['duty_cycle_remaining'] / 10\n",
    "duty_cycle_data.describe()"
   ]
  },
  {
   "cell_type": "markdown",
   "metadata": {},
   "source": [
    "### Frekvencie"
   ]
  },
  {
   "cell_type": "code",
   "execution_count": 8,
   "metadata": {},
   "outputs": [
    {
     "data": {
      "text/plain": [
       "[866.1, 866.9]"
      ]
     },
     "execution_count": 8,
     "metadata": {},
     "output_type": "execute_result"
    }
   ],
   "source": [
    "sorted(uplink_data['frequency'].unique() / 1000000)"
   ]
  },
  {
   "cell_type": "markdown",
   "metadata": {},
   "source": [
    "### Faktor šírenia"
   ]
  },
  {
   "cell_type": "code",
   "execution_count": 9,
   "metadata": {
    "scrolled": true
   },
   "outputs": [
    {
     "data": {
      "text/plain": [
       "[7, 8, 9, 10, 11, 12]"
      ]
     },
     "execution_count": 9,
     "metadata": {},
     "output_type": "execute_result"
    }
   ],
   "source": [
    "sorted(uplink_data['spf'].unique())"
   ]
  },
  {
   "cell_type": "markdown",
   "metadata": {},
   "source": [
    "## Analýza atribútov"
   ]
  },
  {
   "cell_type": "markdown",
   "metadata": {},
   "source": [
    "### Využitie frekvenčného pásma"
   ]
  },
  {
   "cell_type": "code",
   "execution_count": 10,
   "metadata": {},
   "outputs": [
    {
     "data": {
      "image/png": "[encoded data removed]",
      "text/plain": [
       "<Figure size 432x288 with 1 Axes>"
      ]
     },
     "metadata": {
      "needs_background": "light"
     },
     "output_type": "display_data"
    }
   ],
   "source": [
    "uplink_frequency = uplink_data['frequency'] / 1000000\n",
    "plt.hist(uplink_frequency)\n",
    "plt.xlabel('Frekvencia [MHz]')\n",
    "plt.savefig('frequency.png')"
   ]
  },
  {
   "cell_type": "code",
   "execution_count": 11,
   "metadata": {
    "scrolled": true
   },
   "outputs": [
    {
     "data": {
      "image/png": "[encoded data removed]",
      "text/plain": [
       "<Figure size 432x288 with 1 Axes>"
      ]
     },
     "metadata": {
      "needs_background": "light"
     },
     "output_type": "display_data"
    }
   ],
   "source": [
    "plt.scatter(uplink_data['rssi'], uplink_data['snr'])\n",
    "plt.axis([-86,-84,8.4,8.6])\n",
    "plt.xlabel('RSSI [dBm]')\n",
    "plt.ylabel('SNR [dB]')\n",
    "plt.savefig('frequency.png')"
   ]
  },
  {
   "cell_type": "markdown",
   "metadata": {},
   "source": [
    "### Využitie LoRa prístupových bodov"
   ]
  },
  {
   "cell_type": "code",
   "execution_count": 12,
   "metadata": {},
   "outputs": [
    {
     "data": {
      "image/png": "[encoded data removed]",
      "text/plain": [
       "<Figure size 432x288 with 1 Axes>"
      ]
     },
     "metadata": {
      "needs_background": "light"
     },
     "output_type": "display_data"
    }
   ],
   "source": [
    "plt.hist(uplink_data['ap_id'])\n",
    "plt.xlabel('AP id')\n",
    "plt.savefig('acess_points.png')"
   ]
  },
  {
   "cell_type": "markdown",
   "metadata": {},
   "source": [
    "### Trvanie prenosu"
   ]
  },
  {
   "cell_type": "code",
   "execution_count": 13,
   "metadata": {},
   "outputs": [
    {
     "data": {
      "text/plain": [
       "[40, 46, 71, 82, 128, 147, 233, 266, 495, 568, 901, 1032]"
      ]
     },
     "execution_count": 13,
     "metadata": {},
     "output_type": "execute_result"
    }
   ],
   "source": [
    "sorted(uplink_data['airtime'].unique())"
   ]
  },
  {
   "cell_type": "markdown",
   "metadata": {},
   "source": [
    "### Vysielací výkon"
   ]
  },
  {
   "cell_type": "code",
   "execution_count": 14,
   "metadata": {},
   "outputs": [
    {
     "data": {
      "text/plain": [
       "[5, 6, 7, 8, 9, 10, 11, 12, 13, 14, 15]"
      ]
     },
     "execution_count": 14,
     "metadata": {},
     "output_type": "execute_result"
    }
   ],
   "source": [
    "sorted(uplink_data['power'].unique())"
   ]
  },
  {
   "cell_type": "markdown",
   "metadata": {},
   "source": [
    "### Údaje o koncových zariadeniach"
   ]
  },
  {
   "cell_type": "code",
   "execution_count": 16,
   "metadata": {},
   "outputs": [
    {
     "data": {
      "text/plain": [
       "count     206474\n",
       "unique      5696\n",
       "top         yFUC\n",
       "freq          77\n",
       "Name: node_id, dtype: object"
      ]
     },
     "execution_count": 16,
     "metadata": {},
     "output_type": "execute_result"
    }
   ],
   "source": [
    "uplink_data['node_id'].describe()"
   ]
  },
  {
   "cell_type": "markdown",
   "metadata": {},
   "source": [
    "## Koncové zariadenia"
   ]
  },
  {
   "cell_type": "code",
   "execution_count": 18,
   "metadata": {},
   "outputs": [],
   "source": [
    "nodes_data = uplink_data['node_id'].unique()"
   ]
  },
  {
   "cell_type": "code",
   "execution_count": 19,
   "metadata": {},
   "outputs": [
    {
     "data": {
      "text/plain": [
       "0         gfq2\n",
       "1         m2HF\n",
       "2         zoRc\n",
       "3         gX8g\n",
       "4         D6TE\n",
       "          ... \n",
       "206469    jMsO\n",
       "206470    3Aqi\n",
       "206471    6tXT\n",
       "206472    EAvO\n",
       "206473    4QkP\n",
       "Name: node_id, Length: 206474, dtype: object"
      ]
     },
     "execution_count": 19,
     "metadata": {},
     "output_type": "execute_result"
    }
   ],
   "source": [
    "uplink_data['node_id']"
   ]
  }
 ],
 "metadata": {
  "kernelspec": {
   "display_name": "Python 3",
   "language": "python",
   "name": "python3"
  },
  "language_info": {
   "codemirror_mode": {
    "name": "ipython",
    "version": 3
   },
   "file_extension": ".py",
   "mimetype": "text/x-python",
   "name": "python",
   "nbconvert_exporter": "python",
   "pygments_lexer": "ipython3",
   "version": "3.7.6"
  }
 },
 "nbformat": 4,
 "nbformat_minor": 2
}
